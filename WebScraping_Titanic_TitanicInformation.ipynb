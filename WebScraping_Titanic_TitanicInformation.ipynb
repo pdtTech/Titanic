{
 "cells": [
  {
   "cell_type": "code",
   "execution_count": 25,
   "id": "6db33a9b",
   "metadata": {},
   "outputs": [],
   "source": [
    "from bs4 import BeautifulSoup\n",
    "import pandas as pd\n",
    "import requests\n",
    "import numpy as np\n"
   ]
  },
  {
   "cell_type": "code",
   "execution_count": 2,
   "id": "e028786e",
   "metadata": {},
   "outputs": [
    {
     "name": "stdout",
     "output_type": "stream",
     "text": [
      "<div class=\"entry-inner\">\n",
      "<div class=\"wp-caption alignnone\" id=\"attachment_2558\" style=\"width: 401px\"><img alt=\"Titanic Survivors\" aria-describedby=\"caption-attachment-2558\" class=\"wp-image-2558\" height=\"277\" sizes=\"(max-width: 391px) 100vw, 391px\" src=\"https://www.worldhistoryedu.com/wp-content/uploads/2019/08/Titanic-Survivors-4.jpg\" srcset=\"https://www.worldhistoryedu.com/wp-content/uploads/2019/08/Titanic-Survivors-4.jpg 326w, https://www.worldhistoryedu.com/wp-content/uploads/2019/08/Titanic-Survivors-4-300x213.jpg 300w\" width=\"391\"/><p class=\"wp-caption-text\" id=\"caption-attachment-2558\"><em>Famous Survivors of the Titanic Disaster</em></p></div>\n",
      "<p style=\"font-weight: 400;\">Slightly more than a century ago, a severe maritime accident brought the world to tears. Dubbed the  “unsinkable” ship, RMS Titanic ironically went down on it’s very first voyage across the North Atlantic Ocean. As a result of speeding in dangerous waters, the ship’s hull was punctured by an iceberg. Out of the over 2200 passengers on board, about 1500 people lost their lives.  Only an estimated 700 souls survived. As follows are 15 Titanic survivors and their remarkable stories. Inclusive in this article is  also a succinct overview of the survivor rates of the Titanic disaster.</p>\n",
      "<h2><strong>Brief Overview of the Titanic Disaster and the Survivors Statistics</strong></h2>\n",
      "<p style=\"font-weight: 400;\">The <a href=\"https://www.worldhistoryedu.com/the-titanic-history-and-facts/\">Titanic was embarking on its very first voyage</a> from England to New York City.  Built to contain luxurious facilities, a good number of famous people boarded the classy ship. But on that very fateful day, money and fame were almost completely useless. When the ship started sinking hourly. As a result of a severe shortage of lifeboats, panic and fear engulfed the passengers. Amidst this dread, several brave individuals stepped up to plate to save the lives of vulnerable women and children.</p>\n",
      "<div class=\"code-block code-block-1\" style=\"margin: 8px auto; text-align: center; display: block; clear: both;\">\n",
      "<center>\n",
      "<script async=\"\" src=\"//pagead2.googlesyndication.com/pagead/js/adsbygoogle.js\"></script>\n",
      "<!-- 336*280 -->\n",
      "<ins class=\"adsbygoogle\" data-ad-client=\"ca-pub-4359326532339592\" data-ad-slot=\"2663417069\" style=\"display:inline-block;width:336px;height:280px\"></ins>\n",
      "<script>\n",
      "(adsbygoogle = window.adsbygoogle || []).push({});\n",
      "</script>\n",
      "</center></div>\n",
      "<p style=\"font-weight: 400;\">Read more about some of these <strong><a href=\"https://www.worldhistoryedu.com/10-victims-of-the-titanic-disaster/\">gallant individuals who sacrificed</a></strong> their lives to save other passengers on the Titanic.</p>\n",
      "<p style=\"font-weight: 400;\">The <a href=\"https://www.anesi.com/titanic.htm\">survival rates</a> from the Titanic disaster was much higher for women and children, especially women in the first-class section of the ship. Investigations over decades have revealed that up to 97% of the 144 females in first-class cabins were saved. To some extent, male passengers in the first-class compartment were also lucky; 32% of the 175 first-class men escaped the disaster. Regarding the second class section, the rate of male survival was very appalling. In fact, it was the worst. 14 males survived out of 168. About 24% of third-class passengers survived.</p>\n",
      "<h2><strong>List of Famous Survivors of the Titanic Disaster</strong></h2>\n",
      "<div class=\"wp-caption alignnone\" id=\"attachment_2557\" style=\"width: 358px\"><img alt=\"Titanic Survivors\" aria-describedby=\"caption-attachment-2557\" class=\"wp-image-2557\" height=\"234\" loading=\"lazy\" sizes=\"(max-width: 348px) 100vw, 348px\" src=\"https://www.worldhistoryedu.com/wp-content/uploads/2019/08/Titanic-Survivors2.jpg\" srcset=\"https://www.worldhistoryedu.com/wp-content/uploads/2019/08/Titanic-Survivors2.jpg 557w, https://www.worldhistoryedu.com/wp-content/uploads/2019/08/Titanic-Survivors2-300x201.jpg 300w\" width=\"348\"/><p class=\"wp-caption-text\" id=\"caption-attachment-2557\"><em>Famous Survivors of the Titanic Disaster</em></p></div>\n",
      "<p>These are some very famous survivors from the RMS Titanic disaster- a luxurious ocean liner that heartbreakingly sank on April 15, 1912, in the Atlantic Ocean.</p>\n",
      "<h3><strong>Millvina Dean</strong></h3>\n",
      "<p>Millvina was the youngest person (2 months old) to survive the Titanic sinking. She passed away in 2009 at the age of 97. <a href=\"https://www.theguardian.com/world/2009/jun/01/last-titanic-survivor-dies\">Her death in 2009</a> made her the last dead Titanic survivor.</p><div class=\"code-block code-block-2\" style=\"margin: 8px auto; text-align: center; display: block; clear: both;\">\n",
      "<script async=\"\" src=\"//pagead2.googlesyndication.com/pagead/js/adsbygoogle.js\"></script>\n",
      "<!-- Enoch 2 -->\n",
      "<ins class=\"adsbygoogle\" data-ad-client=\"ca-pub-4359326532339592\" data-ad-slot=\"7080411861\" style=\"display:inline-block;width:300px;height:250px\"></ins>\n",
      "<script>\n",
      "(adsbygoogle = window.adsbygoogle || []).push({});\n",
      "</script>\n",
      "</div>\n",
      "<h3><strong>Bruce Ismay</strong></h3>\n",
      "<p>He was one of the owners of the Titanic ship.   Bruce held a top position as <a href=\"https://edition.cnn.com/2013/09/30/us/titanic-fast-facts/index.html\">manager</a> of International Mercantile Marine. He was a business magnate from England who came under intense criticism after surviving the disaster. As a senior official of the shipping line, there were controversies that Bruce allegedly instructed the captain to speed faster, so that the Titanic could set a speed record upon its arrival in New York City.</p>\n",
      "<h3 style=\"font-weight: 400;\"><strong>The Navratil orphans</strong></h3>\n",
      "<div class=\"wp-caption alignnone\" id=\"attachment_2577\" style=\"width: 267px\"><img alt=\"The Navralti Brothers\" aria-describedby=\"caption-attachment-2577\" class=\"wp-image-2577\" height=\"194\" loading=\"lazy\" sizes=\"(max-width: 257px) 100vw, 257px\" src=\"https://www.worldhistoryedu.com/wp-content/uploads/2019/08/The-Navralti-Brothers.jpg\" srcset=\"https://www.worldhistoryedu.com/wp-content/uploads/2019/08/The-Navralti-Brothers.jpg 527w, https://www.worldhistoryedu.com/wp-content/uploads/2019/08/The-Navralti-Brothers-300x227.jpg 300w\" width=\"257\"/><p class=\"wp-caption-text\" id=\"caption-attachment-2577\">The Navralti Brothers. Image Source: Wikmedia Commons</p></div>\n",
      "<p style=\"font-weight: 400;\"><a data-saferedirecturl=\"https://www.google.com/url?q=https://allthatsinteresting.com/titanic-survivors&amp;source=gmail&amp;ust=1565386474562000&amp;usg=AFQjCNGbh6KcpSO8bfcFkEGi4kmhKURLGA\" href=\"https://allthatsinteresting.com/titanic-survivors\">Michel Navratil and Edmond Navratil</a> were two young brothers who luckily survived the Titanic tragedy. The children’s parents were locked up in divorce conflicts. So, their dad bought the Titanic ticket and planned to relocate with his children to the USA. He even faked names for himself and his children in order to secure tickets. When the Titanic disaster struck and death was about to lay its icy hand on him and the children, Michel Sr. secured the last lifeboat for his children. The Navratil children survived, but their father sadly did not make it.  The sad story of the orphans gained a lot of media attention. After spending a couple of weeks in the care of a French survivor from the Titanic – Margaret Hays – the Navratil children eventually made into the comforting hands of their mother.</p>\n",
      "<div class=\"mceTemp\"></div>\n",
      "<h3 style=\"font-weight: 400;\"><strong>Cosmo and Lucy Duff Gordon</strong></h3>\n",
      "<p style=\"font-weight: 400;\">Cosmo and Lucy Duff gained notoriety on the ship, simply because of their survival. Seated in the first-class compartment as a couple, they <a data-saferedirecturl=\"https://www.google.com/url?q=https://www.biography.com/news/famous-titanic-passengers-surviviors-victims&amp;source=gmail&amp;ust=1565386474562000&amp;usg=AFQjCNHWBbxTpdTCtjvjRyavo9ycEsjI3A\" href=\"https://www.biography.com/news/famous-titanic-passengers-surviviors-victims\">rushed for the first lifeboat</a>. Lucy was a famed fashion designer from Britain. Cosmo (as a rich man) was criticized for bribing the crew and ignoring the women-and-children first policy, but he denied doing so.</p>\n",
      "<p style=\"font-weight: 400;\">If Lucy hadn’t cancelled her Lusitanian trip in 1915, she would have been involved in another ocean tragedy – Germans torpedoed a ship that  she was supposed to be on.</p>\n",
      "<p style=\"font-weight: 400;\">Regarding the Titanic disaster, it has been claimed that the Gordons lifeboat could have carried more than 12 people, but Lucy and her husband allegedly bribed the crew not to allow more passengers to join their boat, they feared for their lives.</p>\n",
      "<h3 style=\"font-weight: 400;\"><strong>Violet Jessop</strong></h3>\n",
      "<div class=\"wp-caption alignnone\" id=\"attachment_2578\" style=\"width: 247px\"><img alt=\"Violet Jessop\" aria-describedby=\"caption-attachment-2578\" class=\"wp-image-2578\" height=\"265\" loading=\"lazy\" sizes=\"(max-width: 237px) 100vw, 237px\" src=\"https://www.worldhistoryedu.com/wp-content/uploads/2019/08/Violet-Jessop.jpg\" srcset=\"https://www.worldhistoryedu.com/wp-content/uploads/2019/08/Violet-Jessop.jpg 365w, https://www.worldhistoryedu.com/wp-content/uploads/2019/08/Violet-Jessop-268x300.jpg 268w\" width=\"237\"/><p class=\"wp-caption-text\" id=\"caption-attachment-2578\">In addition to the RMS Titanic disaster, Violet Jessop survived two separate shipping catastrophes.</p></div>\n",
      "<p style=\"font-weight: 400;\">Jessop was a ship stewardess who survived the Titanic disaster. Before her involvement in the Titanic tragedy, Jessop had early on survived the RMS Olympic collision with another ship. Lucky enough, the watertight compartment of the Olympic worked well and saved their precious lives.</p>\n",
      "<p style=\"font-weight: 400;\">Amidst the commotion and shoving on the sinking Titanic,  Jessop helped non-English passengers to safety before she was officially called to join a lifeboat.</p>\n",
      "<p style=\"font-weight: 400;\">In all, Jessop survived three maritime accidents – the RMS Olympic in 1911; the RMS Titanic in 1912; and the HMHS Britannic in 1916 – before dying in 1971 – she was 83. Due to her remarkable close calls with shipping disasters, Jessop often went by the name, “Miss Unsinkable”.</p>\n",
      "<h3 style=\"font-weight: 400;\"><strong>Madeleine Astor</strong></h3>\n",
      "<p style=\"font-weight: 400;\"><a data-saferedirecturl=\"https://www.google.com/url?q=https://www.dummies.com/education/history/famous-titanic-passengers/&amp;source=gmail&amp;ust=1565386474562000&amp;usg=AFQjCNEsUHVhpEGT5h7BE3wYgk_J-CcCdA\" href=\"https://www.dummies.com/education/history/famous-titanic-passengers/\">Madeline’s husband</a> (John Astor) was the richest person on board with a net worth of 87 million US Dollars. She conditionally inherited her husband’s wealth, but later relinquished the wealth and got remarried several times.</p>\n",
      "<h3 style=\"font-weight: 400;\"><strong>Dorothy Gibson</strong></h3>\n",
      "<p style=\"font-weight: 400;\">She was a young movie star of 22 who survived the 1912 Titanic catastrophe. She later starred in a silent film titled “Saved from the Titanic”. Another very interesting fact about Dorothy Gibson is that she wore her Titanic dress as the costume for the movie. The movie was premiered in May that year.</p>\n",
      "<h3 style=\"font-weight: 400;\"><strong>Frederick Fleet</strong></h3>\n",
      "<div class=\"wp-caption alignnone\" id=\"attachment_2579\" style=\"width: 246px\"><img alt=\"Frederick Fleet\" aria-describedby=\"caption-attachment-2579\" class=\"wp-image-2579\" height=\"203\" loading=\"lazy\" sizes=\"(max-width: 236px) 100vw, 236px\" src=\"https://www.worldhistoryedu.com/wp-content/uploads/2019/08/Frederick-Fleet.jpg\" srcset=\"https://www.worldhistoryedu.com/wp-content/uploads/2019/08/Frederick-Fleet.jpg 539w, https://www.worldhistoryedu.com/wp-content/uploads/2019/08/Frederick-Fleet-300x258.jpg 300w\" width=\"236\"/><p class=\"wp-caption-text\" id=\"caption-attachment-2579\">Frederick Fleet was 25 at the time of the disaster</p></div>\n",
      "<p style=\"font-weight: 400;\">He was a sailor from Britain who became a Titanic crewmember at the age of 25. He was part of the watchmen who saw the iceberg in time. After seeing the iceberg, he sounded a bell and alerted the bridge – it was probably too late but others partly blamed him for the disaster. Fleet in his later life became depressed and took his own life in 1965.</p>\n",
      "<h3 style=\"font-weight: 400;\"><strong>Charles Joughin</strong></h3>\n",
      "<p style=\"font-weight: 400;\">He was a crew member who used his own intelligence to survive the tragedy. After disaster had struck, Charles and other passenger started <a data-saferedirecturl=\"https://www.google.com/url?q=https://www.marineinsight.com/maritime-history/titanic-survivors-and-some-noteworthy-stories/&amp;source=gmail&amp;ust=1565386474562000&amp;usg=AFQjCNF6NWGzTE1e3FjxDkCLruSKIKthxA\" href=\"https://www.marineinsight.com/maritime-history/titanic-survivors-and-some-noteworthy-stories/\">drinking alcohol to defeat the cold</a> developing in the icy waters. Charles consumed alcohol as he helped other passengers to escape to the lifeboats. He didn’t get a space for himself in the boat, but his alcohol consumption helped him to live up to 3 hours in the icy waters before rescue eventually came. He lived for 78 years before dying in New Jersey.</p>\n",
      "<h3 style=\"font-weight: 400;\"><strong>Eva Miriam Harts</strong></h3>\n",
      "<p style=\"font-weight: 400;\">She was only 7-years-old when the disaster caught her together with her parents on the ship. At the time of the accident, she was asleep. Her father’s resilience saved the life of Eva and her mother. Titanic went down with Eva’s father. His body was never identified.</p>\n",
      "<p style=\"font-weight: 400;\">When she grew up, Eva became a great Australian singer, politician and a magistrate. She strongly criticized the insufficient number of lifeboats, which led to numerous deaths. According to Eva, the Titanic sinking site should be treated with reverence since it is a graveyard. By this, she was against salvage attempts of the Titanic’s wreckage.</p>\n",
      "<h3><strong>Archibald Gracie IV</strong></h3>\n",
      "<div class=\"wp-caption alignnone\" id=\"attachment_2580\" style=\"width: 236px\"><img alt=\"Archibald Gracie IV\" aria-describedby=\"caption-attachment-2580\" class=\"wp-image-2580\" height=\"179\" loading=\"lazy\" sizes=\"(max-width: 226px) 100vw, 226px\" src=\"https://www.worldhistoryedu.com/wp-content/uploads/2019/08/Archibald-Gracie-IV.jpg\" srcset=\"https://www.worldhistoryedu.com/wp-content/uploads/2019/08/Archibald-Gracie-IV.jpg 470w, https://www.worldhistoryedu.com/wp-content/uploads/2019/08/Archibald-Gracie-IV-300x237.jpg 300w\" width=\"226\"/><p class=\"wp-caption-text\" id=\"caption-attachment-2580\">Archibald Gracie IV</p></div>\n",
      "<p>He was a writer and a historian. After surviving the disaster, he wrote a vivid account of the events leading up to the tragedy, but he didn’t live long afterward.</p>\n",
      "<p>After helping scores of other passengers to evacuate the ship, Archibald found himself resurfaced above the icy waters as the ship sank.  He climbed onto a floating lifeboat and later got rescued, along with other survivors.</p>\n",
      "<h3><strong>Henry S. Harper</strong></h3>\n",
      "<p>He was a United States business magnate who belonged to the Harper &amp; Brothers firm. He was among the notable survivors of the Titanic disaster. Harper made a good name for himself as a forest conservationist.<strong> </strong></p>\n",
      "<h3 style=\"font-weight: 400;\"><strong>Charles Lightoller</strong></h3>\n",
      "<p style=\"font-weight: 400;\">He was a second officer on the Titanic. Lightoller strictly observed the women-first policy to the letter, somewhat to the apparent detriment of male passengers. In all fairness he was slightly responsible for allowing half-empty lifeboats sail.  Luckily for him, he survived- this was after he had sank shortly with the ship and later resurfaced. As the minutes rolled by Lightoller;s survival instincts got sharper. He held on to his dear life by clutching onto an inverted boat until rescue came by. Years after the disaster, Lightoller would go on to make a lot of recommendations to improve maritime safety on the high seas.</p>\n",
      "<h3><strong>Margaret Brown</strong></h3>\n",
      "<div class=\"wp-caption alignnone\" id=\"attachment_2582\" style=\"width: 272px\"><img alt=\"Margaret Brown\" aria-describedby=\"caption-attachment-2582\" class=\"wp-image-2582\" height=\"184\" loading=\"lazy\" sizes=\"(max-width: 262px) 100vw, 262px\" src=\"https://www.worldhistoryedu.com/wp-content/uploads/2019/08/Miss-Unsinkable-.jpg\" srcset=\"https://www.worldhistoryedu.com/wp-content/uploads/2019/08/Miss-Unsinkable-.jpg 640w, https://www.worldhistoryedu.com/wp-content/uploads/2019/08/Miss-Unsinkable--300x210.jpg 300w\" width=\"262\"/><p class=\"wp-caption-text\" id=\"caption-attachment-2582\">Margaret Brown, also known as “The Unsinkable Molly Brown”, showed immense courage and rescued a number of drowning passengers.</p></div>\n",
      "<p>She was an influential philanthropist who was among the survivors. Margaret and her husband, James Brown, became extremely wealthy after their mining business flourished at the turn of the 20th century.   As a social activist, she showed much concern for the welfare of children and women. She also helped to row back a lifeboat to the accident scene to save more survivors.  She was nicknamed “The Unsinkable Molly Brown”.  Her Titanic experience later became a Hollywood film.</p><div class=\"code-block code-block-3\" style=\"margin: 8px 0; clear: both;\">\n",
      "<script async=\"\" src=\"https://pagead2.googlesyndication.com/pagead/js/adsbygoogle.js\"></script>\n",
      "<!-- horizontal 2019 -->\n",
      "<ins class=\"adsbygoogle\" data-ad-client=\"ca-pub-4359326532339592\" data-ad-format=\"auto\" data-ad-slot=\"3165818309\" data-full-width-responsive=\"true\" style=\"display:block\"></ins>\n",
      "<script>\n",
      "     (adsbygoogle = window.adsbygoogle || []).push({});\n",
      "</script>\n",
      "</div>\n",
      "<h3 style=\"font-weight: 400;\"><strong>Masabumi Hosono</strong></h3>\n",
      "<p style=\"font-weight: 400;\">He was the only Japanese national onboard the Titanic. As a foreigner, Hosono was initially turned away when he tried to join a lifeboat. When a second lifeboat had enough room for two more people, Hosono hopped in with his dear life. Allegedly, his survival cost him his job. The media ridiculed him and shamed his family until his last days.</p>\n",
      "<h3><strong>Nöel Leslie</strong></h3>\n",
      "<div class=\"wp-caption alignnone\" id=\"attachment_2581\" style=\"width: 233px\"><img alt=\"Noel Leslie\" aria-describedby=\"caption-attachment-2581\" class=\"wp-image-2581\" height=\"299\" loading=\"lazy\" sizes=\"(max-width: 223px) 100vw, 223px\" src=\"https://www.worldhistoryedu.com/wp-content/uploads/2019/08/leslie.jpg\" srcset=\"https://www.worldhistoryedu.com/wp-content/uploads/2019/08/leslie.jpg 339w, https://www.worldhistoryedu.com/wp-content/uploads/2019/08/leslie-224x300.jpg 224w\" width=\"223\"/><p class=\"wp-caption-text\" id=\"caption-attachment-2581\">Nöel Leslie, the Countess of Rothes</p></div>\n",
      "<p>She was a <a href=\"https://www.businessinsider.com/titanic-famous-survivors-victims-2018-4\">British Countess</a>; she rose to the title when she got married to Norman Evelyn Leslie- the Earl of Rothes. Nöel was a popular personality in London. She boarded the ship together with her cousin Cherry.  The cousins were among the lucky passengers who hopped onto lifeboats and survived the tragedy. Leslie, her cousin and some crew members suggested going back to rescue more survivors, but their idea was met with resistance from other lifeboat survivors.   Nöel became very philanthropic after the disaster and discharged duties as a nurse during the <a href=\"https://www.worldhistoryedu.com/history-of-world-war-i/\">First World War</a>.</p>\n",
      "<p style=\"font-weight: 400;\">\n",
      "<!-- AI CONTENT END 1 -->\n",
      "<nav class=\"pagination group\">\n",
      "</nav><!--/.pagination-->\n",
      "</p></div>\n"
     ]
    }
   ],
   "source": [
    "url = 'https://www.worldhistoryedu.com/15-famous-survivors-of-the-titanic-disaster/'\n",
    "html_text = requests.get(url).text\n",
    "\n",
    "soup = BeautifulSoup(html_text, 'lxml') # lxml is the html parser\n",
    "website_text = soup.find('div', class_='entry-inner')\n",
    "print(website_text)"
   ]
  },
  {
   "cell_type": "code",
   "execution_count": null,
   "id": "ae6e9183",
   "metadata": {},
   "outputs": [],
   "source": []
  },
  {
   "cell_type": "code",
   "execution_count": null,
   "id": "3c5230b8",
   "metadata": {},
   "outputs": [],
   "source": []
  },
  {
   "cell_type": "code",
   "execution_count": 76,
   "id": "30ef3ef6",
   "metadata": {},
   "outputs": [],
   "source": [
    "person_name = website_text.find('h3')\n",
    "paragraphs = website_text.find_all('p')\n",
    "paragraph_text = []\n",
    "for paragraph in paragraphs:\n",
    "    paragraph_text.append(paragraph.text)"
   ]
  },
  {
   "cell_type": "code",
   "execution_count": 132,
   "id": "9076be8b",
   "metadata": {},
   "outputs": [
    {
     "name": "stdout",
     "output_type": "stream",
     "text": [
      "Famous Survivors of the Titanic Disaster\n",
      "Slightly more than a century ago, a severe maritime accident brought the world to tears. Dubbed the  “unsinkable” ship, RMS Titanic ironically went down on it’s very first voyage across the North Atlantic Ocean. As a result of speeding in dangerous waters, the ship’s hull was punctured by an iceberg. Out of the over 2200 passengers on board, about 1500 people lost their lives.  Only an estimated 700 souls survived. As follows are 15 Titanic survivors and their remarkable stories. Inclusive in this article is  also a succinct overview of the survivor rates of the Titanic disaster.\n",
      "The Titanic was embarking on its very first voyage from England to New York City.  Built to contain luxurious facilities, a good number of famous people boarded the classy ship. But on that very fateful day, money and fame were almost completely useless. When the ship started sinking hourly. As a result of a severe shortage of lifeboats, panic and fear engulfed the passengers. Amidst this dread, several brave individuals stepped up to plate to save the lives of vulnerable women and children.\n",
      "Read more about some of these gallant individuals who sacrificed their lives to save other passengers on the Titanic.\n",
      "The survival rates from the Titanic disaster was much higher for women and children, especially women in the first-class section of the ship. Investigations over decades have revealed that up to 97% of the 144 females in first-class cabins were saved. To some extent, male passengers in the first-class compartment were also lucky; 32% of the 175 first-class men escaped the disaster. Regarding the second class section, the rate of male survival was very appalling. In fact, it was the worst. 14 males survived out of 168. About 24% of third-class passengers survived.\n",
      "Famous Survivors of the Titanic Disaster\n",
      "These are some very famous survivors from the RMS Titanic disaster- a luxurious ocean liner that heartbreakingly sank on April 15, 1912, in the Atlantic Ocean.\n",
      "Millvina was the youngest person (2 months old) to survive the Titanic sinking. She passed away in 2009 at the age of 97. Her death in 2009 made her the last dead Titanic survivor.\n",
      "He was one of the owners of the Titanic ship.   Bruce held a top position as manager of International Mercantile Marine. He was a business magnate from England who came under intense criticism after surviving the disaster. As a senior official of the shipping line, there were controversies that Bruce allegedly instructed the captain to speed faster, so that the Titanic could set a speed record upon its arrival in New York City.\n",
      "The Navralti Brothers. Image Source: Wikmedia Commons\n",
      "Michel Navratil and Edmond Navratil were two young brothers who luckily survived the Titanic tragedy. The children’s parents were locked up in divorce conflicts. So, their dad bought the Titanic ticket and planned to relocate with his children to the USA. He even faked names for himself and his children in order to secure tickets. When the Titanic disaster struck and death was about to lay its icy hand on him and the children, Michel Sr. secured the last lifeboat for his children. The Navratil children survived, but their father sadly did not make it.  The sad story of the orphans gained a lot of media attention. After spending a couple of weeks in the care of a French survivor from the Titanic – Margaret Hays – the Navratil children eventually made into the comforting hands of their mother.\n",
      "Cosmo and Lucy Duff gained notoriety on the ship, simply because of their survival. Seated in the first-class compartment as a couple, they rushed for the first lifeboat. Lucy was a famed fashion designer from Britain. Cosmo (as a rich man) was criticized for bribing the crew and ignoring the women-and-children first policy, but he denied doing so.\n",
      "If Lucy hadn’t cancelled her Lusitanian trip in 1915, she would have been involved in another ocean tragedy – Germans torpedoed a ship that  she was supposed to be on.\n",
      "Regarding the Titanic disaster, it has been claimed that the Gordons lifeboat could have carried more than 12 people, but Lucy and her husband allegedly bribed the crew not to allow more passengers to join their boat, they feared for their lives.\n",
      "In addition to the RMS Titanic disaster, Violet Jessop survived two separate shipping catastrophes.\n",
      "Jessop was a ship stewardess who survived the Titanic disaster. Before her involvement in the Titanic tragedy, Jessop had early on survived the RMS Olympic collision with another ship. Lucky enough, the watertight compartment of the Olympic worked well and saved their precious lives.\n",
      "Amidst the commotion and shoving on the sinking Titanic,  Jessop helped non-English passengers to safety before she was officially called to join a lifeboat.\n",
      "In all, Jessop survived three maritime accidents – the RMS Olympic in 1911; the RMS Titanic in 1912; and the HMHS Britannic in 1916 – before dying in 1971 – she was 83. Due to her remarkable close calls with shipping disasters, Jessop often went by the name, “Miss Unsinkable”.\n",
      "Madeline’s husband (John Astor) was the richest person on board with a net worth of 87 million US Dollars. She conditionally inherited her husband’s wealth, but later relinquished the wealth and got remarried several times.\n",
      "She was a young movie star of 22 who survived the 1912 Titanic catastrophe. She later starred in a silent film titled “Saved from the Titanic”. Another very interesting fact about Dorothy Gibson is that she wore her Titanic dress as the costume for the movie. The movie was premiered in May that year.\n",
      "Frederick Fleet was 25 at the time of the disaster\n",
      "He was a sailor from Britain who became a Titanic crewmember at the age of 25. He was part of the watchmen who saw the iceberg in time. After seeing the iceberg, he sounded a bell and alerted the bridge – it was probably too late but others partly blamed him for the disaster. Fleet in his later life became depressed and took his own life in 1965.\n",
      "He was a crew member who used his own intelligence to survive the tragedy. After disaster had struck, Charles and other passenger started drinking alcohol to defeat the cold developing in the icy waters. Charles consumed alcohol as he helped other passengers to escape to the lifeboats. He didn’t get a space for himself in the boat, but his alcohol consumption helped him to live up to 3 hours in the icy waters before rescue eventually came. He lived for 78 years before dying in New Jersey.\n",
      "She was only 7-years-old when the disaster caught her together with her parents on the ship. At the time of the accident, she was asleep. Her father’s resilience saved the life of Eva and her mother. Titanic went down with Eva’s father. His body was never identified.\n",
      "When she grew up, Eva became a great Australian singer, politician and a magistrate. She strongly criticized the insufficient number of lifeboats, which led to numerous deaths. According to Eva, the Titanic sinking site should be treated with reverence since it is a graveyard. By this, she was against salvage attempts of the Titanic’s wreckage.\n",
      "Archibald Gracie IV\n",
      "He was a writer and a historian. After surviving the disaster, he wrote a vivid account of the events leading up to the tragedy, but he didn’t live long afterward.\n",
      "After helping scores of other passengers to evacuate the ship, Archibald found himself resurfaced above the icy waters as the ship sank.  He climbed onto a floating lifeboat and later got rescued, along with other survivors.\n",
      "He was a United States business magnate who belonged to the Harper & Brothers firm. He was among the notable survivors of the Titanic disaster. Harper made a good name for himself as a forest conservationist. \n",
      "He was a second officer on the Titanic. Lightoller strictly observed the women-first policy to the letter, somewhat to the apparent detriment of male passengers. In all fairness he was slightly responsible for allowing half-empty lifeboats sail.  Luckily for him, he survived- this was after he had sank shortly with the ship and later resurfaced. As the minutes rolled by Lightoller;s survival instincts got sharper. He held on to his dear life by clutching onto an inverted boat until rescue came by. Years after the disaster, Lightoller would go on to make a lot of recommendations to improve maritime safety on the high seas.\n",
      "Margaret Brown, also known as “The Unsinkable Molly Brown”, showed immense courage and rescued a number of drowning passengers.\n",
      "She was an influential philanthropist who was among the survivors. Margaret and her husband, James Brown, became extremely wealthy after their mining business flourished at the turn of the 20th century.   As a social activist, she showed much concern for the welfare of children and women. She also helped to row back a lifeboat to the accident scene to save more survivors.  She was nicknamed “The Unsinkable Molly Brown”.  Her Titanic experience later became a Hollywood film.\n",
      "He was the only Japanese national onboard the Titanic. As a foreigner, Hosono was initially turned away when he tried to join a lifeboat. When a second lifeboat had enough room for two more people, Hosono hopped in with his dear life. Allegedly, his survival cost him his job. The media ridiculed him and shamed his family until his last days.\n",
      "Nöel Leslie, the Countess of Rothes\n",
      "She was a British Countess; she rose to the title when she got married to Norman Evelyn Leslie- the Earl of Rothes. Nöel was a popular personality in London. She boarded the ship together with her cousin Cherry.  The cousins were among the lucky passengers who hopped onto lifeboats and survived the tragedy. Leslie, her cousin and some crew members suggested going back to rescue more survivors, but their idea was met with resistance from other lifeboat survivors.   Nöel became very philanthropic after the disaster and discharged duties as a nurse during the First World War.\n",
      "\n",
      "\n",
      "\n",
      "\n",
      "\n"
     ]
    }
   ],
   "source": [
    "#https://stackoverflow.com/questions/10993612/how-to-remove-xa0-from-string-in-python\n",
    "\n",
    "for phrase in paragraph_text:\n",
    "    for word in phrase:\n",
    "        word = word.replace(u'\\xa0', u' ')\n",
    "    print(phrase)"
   ]
  },
  {
   "cell_type": "code",
   "execution_count": 133,
   "id": "f2dd2979",
   "metadata": {},
   "outputs": [
    {
     "data": {
      "text/plain": [
       "['Famous Survivors of the Titanic Disaster',\n",
       " 'Slightly more than a century ago, a severe maritime accident brought the world to tears. Dubbed the\\xa0 “unsinkable” ship, RMS Titanic ironically went down on it’s very first voyage across the North Atlantic Ocean. As a result of speeding in dangerous waters, the ship’s hull was punctured by an iceberg. Out of the over 2200 passengers on board, about 1500 people lost their lives.\\xa0 Only an estimated 700 souls survived. As follows are 15 Titanic survivors and their remarkable stories. Inclusive in this article is\\xa0 also a succinct overview of the survivor rates of the Titanic disaster.',\n",
       " 'The Titanic was embarking on its very\\xa0first voyage from England to New York City.\\xa0 Built to contain luxurious facilities, a good number of famous people boarded the classy ship. But on that very fateful day, money and fame were almost completely useless. When the ship started sinking hourly. As a result of a severe shortage of lifeboats, panic and fear engulfed the passengers. Amidst this dread, several brave individuals stepped up to plate to save the lives of vulnerable women and children.',\n",
       " 'Read more about some of these gallant individuals who sacrificed their lives to save other passengers on the Titanic.',\n",
       " 'The survival rates from the Titanic disaster was much higher for women and children, especially women in the first-class section of the ship. Investigations over decades have revealed that up to 97% of the 144 females in first-class cabins were saved. To some extent, male passengers in the first-class compartment were also lucky; 32% of the 175 first-class men escaped the disaster. Regarding the second class section, the rate of male survival was very appalling. In fact, it was the worst. 14 males survived out of 168. About 24% of third-class passengers survived.',\n",
       " 'Famous Survivors of the Titanic Disaster',\n",
       " 'These are some very famous survivors from the RMS Titanic disaster- a luxurious ocean liner that heartbreakingly sank on April 15, 1912, in the Atlantic Ocean.',\n",
       " 'Millvina was the youngest person (2 months old) to survive the Titanic sinking. She passed away in 2009 at the age of 97. Her death in 2009 made her the last dead Titanic survivor.',\n",
       " 'He was one of the owners of the Titanic ship.\\xa0\\xa0 Bruce held a top position as\\xa0manager of International Mercantile Marine. He was a business magnate from England who came under intense criticism after surviving the disaster. As a senior official of the shipping line, there were controversies that Bruce allegedly instructed the captain to speed faster, so that the Titanic could set a speed record upon its arrival in New York City.',\n",
       " 'The Navralti Brothers. Image Source: Wikmedia Commons',\n",
       " 'Michel Navratil and Edmond Navratil were two young brothers who luckily survived the Titanic tragedy. The children’s parents were locked up in divorce conflicts. So, their dad bought the Titanic ticket and planned to relocate with his children to the USA. He even faked names for himself and his children in order to secure tickets. When the Titanic disaster struck and death was about to lay its icy hand on him and the children, Michel Sr. secured the last lifeboat for his children. The Navratil children survived, but their father sadly did not make it.\\xa0 The sad story of the orphans gained a lot of media attention. After spending a couple of weeks in the care of a French survivor from the Titanic – Margaret Hays – the Navratil children eventually made into the comforting hands of their mother.',\n",
       " 'Cosmo and Lucy Duff gained notoriety on the ship, simply because of their survival. Seated in the first-class compartment as a couple, they rushed for the first lifeboat. Lucy was a famed fashion designer from Britain. Cosmo (as a rich man) was criticized for bribing the crew and ignoring the women-and-children first policy, but he denied doing so.',\n",
       " 'If Lucy hadn’t cancelled her Lusitanian trip in 1915, she would have been involved in another ocean tragedy – Germans torpedoed a ship that\\xa0 she was supposed to be on.',\n",
       " 'Regarding the Titanic disaster, it has been claimed that the Gordons lifeboat could have carried more than 12 people, but Lucy and her husband allegedly bribed the crew not to allow more passengers to join their boat, they feared for their lives.',\n",
       " 'In addition to the RMS Titanic disaster, Violet Jessop survived two separate shipping catastrophes.',\n",
       " 'Jessop was a ship stewardess who survived the Titanic disaster. Before her involvement in the Titanic tragedy, Jessop had early on survived the RMS Olympic collision with another ship. Lucky enough, the watertight compartment of the Olympic worked well and saved their precious lives.',\n",
       " 'Amidst the commotion and shoving on the sinking Titanic,\\xa0 Jessop helped non-English passengers to safety before she was officially called to join a lifeboat.',\n",
       " 'In all, Jessop survived three maritime accidents – the RMS Olympic in 1911; the RMS Titanic in 1912; and the HMHS Britannic in 1916 – before dying in 1971 – she was 83. Due to her remarkable close calls with shipping disasters, Jessop often went by the name, “Miss Unsinkable”.',\n",
       " 'Madeline’s husband\\xa0(John Astor) was the richest person on board with a net worth of 87 million US Dollars. She conditionally inherited her husband’s wealth, but later relinquished the wealth and got remarried several times.',\n",
       " 'She was a young movie star of 22 who survived the 1912 Titanic catastrophe. She later starred in a silent film titled “Saved from the Titanic”. Another very interesting fact about Dorothy Gibson is that she wore her Titanic dress as the costume for the movie. The movie was premiered in May that year.',\n",
       " 'Frederick Fleet was 25 at the time of the disaster',\n",
       " 'He was a sailor from Britain who became a Titanic crewmember at the age of 25. He was part of the watchmen who saw the iceberg in time. After seeing the iceberg, he sounded a bell and alerted the bridge – it was probably too late but others partly blamed him for the disaster. Fleet in his later life became depressed and took his own life in 1965.',\n",
       " 'He was a crew member who used his own intelligence to survive the tragedy. After disaster had struck, Charles and other passenger started\\xa0drinking alcohol to defeat the cold developing in the icy waters. Charles consumed alcohol as he helped other passengers to escape to the lifeboats. He didn’t get a space for himself in the boat, but his alcohol consumption helped him to live up to 3 hours in the icy waters before rescue eventually came. He lived for 78 years before dying in New Jersey.',\n",
       " 'She was only 7-years-old when the disaster caught her together with her parents on the ship. At the time of the accident, she was asleep. Her father’s resilience saved the life of Eva and her mother. Titanic went down with Eva’s father. His body was never identified.',\n",
       " 'When she grew up, Eva became a great Australian singer, politician and a magistrate. She strongly criticized the insufficient number of lifeboats, which led to numerous deaths. According to Eva, the Titanic sinking site should be treated with reverence since it is a graveyard. By this, she was against salvage attempts of the Titanic’s wreckage.',\n",
       " 'Archibald Gracie IV',\n",
       " 'He was a writer and a historian. After surviving the disaster, he wrote a vivid account of the events leading up to the tragedy, but he didn’t live long afterward.',\n",
       " 'After helping scores of other passengers to evacuate the ship, Archibald found himself resurfaced above the icy waters as the ship sank.\\xa0 He climbed onto a floating lifeboat and later got rescued, along with other survivors.',\n",
       " 'He was a United States business magnate who belonged to the Harper & Brothers firm. He was among the notable survivors of the Titanic disaster. Harper made a good name for himself as a forest conservationist.\\xa0',\n",
       " 'He was a second officer on the Titanic. Lightoller strictly observed the women-first policy to the letter, somewhat to the apparent detriment of male passengers. In all fairness he was slightly responsible for allowing half-empty lifeboats sail.\\xa0 Luckily for him, he survived- this was after he had sank shortly with the ship and later resurfaced. As the minutes rolled by Lightoller;s survival instincts got sharper. He held on to his dear life by clutching onto an inverted boat until rescue came by. Years after the disaster, Lightoller would go on to make a lot of recommendations to improve maritime safety on the high seas.',\n",
       " 'Margaret Brown, also known as “The Unsinkable Molly Brown”, showed immense courage and rescued a number of drowning passengers.',\n",
       " 'She was an influential philanthropist who was among the survivors. Margaret and her husband, James Brown, became extremely wealthy after their mining business flourished at the turn of the 20th century.\\xa0\\xa0 As a social activist, she showed much concern for the welfare of children and women. She also helped to row back a lifeboat to the accident scene to save more survivors.\\xa0 She was nicknamed “The Unsinkable Molly Brown”.\\xa0 Her Titanic experience later became a Hollywood film.',\n",
       " 'He was the only Japanese national onboard the Titanic. As a foreigner, Hosono was initially turned away when he tried to join a lifeboat. When a second lifeboat had enough room for two more people, Hosono hopped in with his dear life. Allegedly, his survival cost him his job. The media ridiculed him and shamed his family until his last days.',\n",
       " 'Nöel Leslie, the Countess of Rothes',\n",
       " 'She was a\\xa0British Countess; she rose to the title when she got married to Norman Evelyn Leslie- the Earl of Rothes. Nöel was a popular personality in London. She boarded the ship together with her cousin Cherry.\\xa0 The cousins were among the lucky passengers who hopped onto lifeboats and survived the tragedy. Leslie, her cousin and some crew members suggested going back to rescue more survivors, but their idea was met with resistance from other lifeboat survivors.\\xa0\\xa0 Nöel became very philanthropic after the disaster and discharged duties as a nurse during the First World War.',\n",
       " '\\n\\n\\n\\n']"
      ]
     },
     "execution_count": 133,
     "metadata": {},
     "output_type": "execute_result"
    }
   ],
   "source": [
    "paragraph_text"
   ]
  },
  {
   "cell_type": "code",
   "execution_count": 134,
   "id": "b4039412",
   "metadata": {},
   "outputs": [
    {
     "name": "stdout",
     "output_type": "stream",
     "text": [
      "0 Famous Survivors of the Titanic Disaster\n",
      "1 Slightly more than a century ago, a severe maritime accident brought the world to tears. Dubbed the  “unsinkable” ship, RMS Titanic ironically went down on it’s very first voyage across the North Atlantic Ocean. As a result of speeding in dangerous waters, the ship’s hull was punctured by an iceberg. Out of the over 2200 passengers on board, about 1500 people lost their lives.  Only an estimated 700 souls survived. As follows are 15 Titanic survivors and their remarkable stories. Inclusive in this article is  also a succinct overview of the survivor rates of the Titanic disaster.\n",
      "2 The Titanic was embarking on its very first voyage from England to New York City.  Built to contain luxurious facilities, a good number of famous people boarded the classy ship. But on that very fateful day, money and fame were almost completely useless. When the ship started sinking hourly. As a result of a severe shortage of lifeboats, panic and fear engulfed the passengers. Amidst this dread, several brave individuals stepped up to plate to save the lives of vulnerable women and children.\n",
      "3 Read more about some of these gallant individuals who sacrificed their lives to save other passengers on the Titanic.\n",
      "4 The survival rates from the Titanic disaster was much higher for women and children, especially women in the first-class section of the ship. Investigations over decades have revealed that up to 97% of the 144 females in first-class cabins were saved. To some extent, male passengers in the first-class compartment were also lucky; 32% of the 175 first-class men escaped the disaster. Regarding the second class section, the rate of male survival was very appalling. In fact, it was the worst. 14 males survived out of 168. About 24% of third-class passengers survived.\n",
      "5 Famous Survivors of the Titanic Disaster\n",
      "6 These are some very famous survivors from the RMS Titanic disaster- a luxurious ocean liner that heartbreakingly sank on April 15, 1912, in the Atlantic Ocean.\n"
     ]
    }
   ],
   "source": [
    "#Create a list of survivor descriptions to be able to refer to the index\n",
    "titanic_info = []\n",
    "for index, info in enumerate(paragraph_text[:7:]): \n",
    "    print(index, info)\n",
    "    titanic_info.append(info)\n"
   ]
  },
  {
   "cell_type": "code",
   "execution_count": null,
   "id": "a64715fd",
   "metadata": {},
   "outputs": [],
   "source": []
  },
  {
   "cell_type": "code",
   "execution_count": 135,
   "id": "04cf36c9",
   "metadata": {},
   "outputs": [
    {
     "name": "stdout",
     "output_type": "stream",
     "text": [
      "0 Famous Survivors of the Titanic Disaster\n",
      "1 Slightly more than a century ago, a severe maritime accident brought the world to tears. Dubbed the  “unsinkable” ship, RMS Titanic ironically went down on it’s very first voyage across the North Atlantic Ocean. As a result of speeding in dangerous waters, the ship’s hull was punctured by an iceberg. Out of the over 2200 passengers on board, about 1500 people lost their lives.  Only an estimated 700 souls survived. As follows are 15 Titanic survivors and their remarkable stories. Inclusive in this article is  also a succinct overview of the survivor rates of the Titanic disaster.\n",
      "2 The Titanic was embarking on its very first voyage from England to New York City.  Built to contain luxurious facilities, a good number of famous people boarded the classy ship. But on that very fateful day, money and fame were almost completely useless. When the ship started sinking hourly. As a result of a severe shortage of lifeboats, panic and fear engulfed the passengers. Amidst this dread, several brave individuals stepped up to plate to save the lives of vulnerable women and children.\n",
      "3 Read more about some of these gallant individuals who sacrificed their lives to save other passengers on the Titanic.\n",
      "4 The survival rates from the Titanic disaster was much higher for women and children, especially women in the first-class section of the ship. Investigations over decades have revealed that up to 97% of the 144 females in first-class cabins were saved. To some extent, male passengers in the first-class compartment were also lucky; 32% of the 175 first-class men escaped the disaster. Regarding the second class section, the rate of male survival was very appalling. In fact, it was the worst. 14 males survived out of 168. About 24% of third-class passengers survived.\n",
      "5 Famous Survivors of the Titanic Disaster\n",
      "6 These are some very famous survivors from the RMS Titanic disaster- a luxurious ocean liner that heartbreakingly sank on April 15, 1912, in the Atlantic Ocean.\n"
     ]
    }
   ],
   "source": [
    "for index, i in enumerate(titanic_info):\n",
    "    print(index, i)"
   ]
  },
  {
   "cell_type": "code",
   "execution_count": 136,
   "id": "943d57bc",
   "metadata": {},
   "outputs": [
    {
     "data": {
      "text/plain": [
       "['Famous Survivors of the Titanic Disaster',\n",
       " 'Slightly more than a century ago, a severe maritime accident brought the world to tears. Dubbed the\\xa0 “unsinkable” ship, RMS Titanic ironically went down on it’s very first voyage across the North Atlantic Ocean. As a result of speeding in dangerous waters, the ship’s hull was punctured by an iceberg. Out of the over 2200 passengers on board, about 1500 people lost their lives.\\xa0 Only an estimated 700 souls survived. As follows are 15 Titanic survivors and their remarkable stories. Inclusive in this article is\\xa0 also a succinct overview of the survivor rates of the Titanic disaster.',\n",
       " 'The Titanic was embarking on its very\\xa0first voyage from England to New York City.\\xa0 Built to contain luxurious facilities, a good number of famous people boarded the classy ship. But on that very fateful day, money and fame were almost completely useless. When the ship started sinking hourly. As a result of a severe shortage of lifeboats, panic and fear engulfed the passengers. Amidst this dread, several brave individuals stepped up to plate to save the lives of vulnerable women and children.',\n",
       " 'Read more about some of these gallant individuals who sacrificed their lives to save other passengers on the Titanic.',\n",
       " 'The survival rates from the Titanic disaster was much higher for women and children, especially women in the first-class section of the ship. Investigations over decades have revealed that up to 97% of the 144 females in first-class cabins were saved. To some extent, male passengers in the first-class compartment were also lucky; 32% of the 175 first-class men escaped the disaster. Regarding the second class section, the rate of male survival was very appalling. In fact, it was the worst. 14 males survived out of 168. About 24% of third-class passengers survived.',\n",
       " 'Famous Survivors of the Titanic Disaster',\n",
       " 'These are some very famous survivors from the RMS Titanic disaster- a luxurious ocean liner that heartbreakingly sank on April 15, 1912, in the Atlantic Ocean.']"
      ]
     },
     "execution_count": 136,
     "metadata": {},
     "output_type": "execute_result"
    }
   ],
   "source": [
    "titanic_info"
   ]
  },
  {
   "cell_type": "code",
   "execution_count": 137,
   "id": "69c65c75",
   "metadata": {},
   "outputs": [],
   "source": []
  },
  {
   "cell_type": "markdown",
   "id": "51a621d9",
   "metadata": {},
   "source": [
    "## Save to a .txt file"
   ]
  },
  {
   "cell_type": "code",
   "execution_count": 160,
   "id": "f85c2eff",
   "metadata": {},
   "outputs": [
    {
     "name": "stdout",
     "output_type": "stream",
     "text": [
      "titanic saved\n"
     ]
    }
   ],
   "source": [
    "# text was not encoded\n",
    "# so, had to encode to utf8\n",
    "# for Jupyter to save.\n",
    "\n",
    "with open('titanicInformation.txt', 'w', encoding='utf8') as f:\n",
    "    for row in titanic_info:\n",
    "        f.write(str(row) + '\\n\\n')\n",
    "    \n",
    "print(\"titanic saved\")"
   ]
  },
  {
   "cell_type": "code",
   "execution_count": 99,
   "id": "6f5cf859",
   "metadata": {},
   "outputs": [],
   "source": []
  },
  {
   "cell_type": "code",
   "execution_count": 101,
   "id": "5f5de359",
   "metadata": {},
   "outputs": [],
   "source": []
  },
  {
   "cell_type": "code",
   "execution_count": 103,
   "id": "896d2030",
   "metadata": {},
   "outputs": [],
   "source": []
  },
  {
   "cell_type": "code",
   "execution_count": 105,
   "id": "f0797a77",
   "metadata": {},
   "outputs": [],
   "source": []
  },
  {
   "cell_type": "code",
   "execution_count": null,
   "id": "f67bbc13",
   "metadata": {},
   "outputs": [],
   "source": []
  }
 ],
 "metadata": {
  "kernelspec": {
   "display_name": "Python 3 (ipykernel)",
   "language": "python",
   "name": "python3"
  },
  "language_info": {
   "codemirror_mode": {
    "name": "ipython",
    "version": 3
   },
   "file_extension": ".py",
   "mimetype": "text/x-python",
   "name": "python",
   "nbconvert_exporter": "python",
   "pygments_lexer": "ipython3",
   "version": "3.9.7"
  }
 },
 "nbformat": 4,
 "nbformat_minor": 5
}
