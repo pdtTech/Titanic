{
 "cells": [
  {
   "cell_type": "code",
   "execution_count": 1,
   "id": "6db33a9b",
   "metadata": {},
   "outputs": [],
   "source": [
    "from bs4 import BeautifulSoup\n",
    "import pandas as pd\n",
    "import requests\n",
    "import numpy as np"
   ]
  },
  {
   "cell_type": "code",
   "execution_count": 2,
   "id": "e028786e",
   "metadata": {},
   "outputs": [
    {
     "name": "stdout",
     "output_type": "stream",
     "text": [
      "<div class=\"entry-inner\">\n",
      "<div class=\"wp-caption alignnone\" id=\"attachment_2558\" style=\"width: 401px\"><img alt=\"Titanic Survivors\" aria-describedby=\"caption-attachment-2558\" class=\"wp-image-2558\" height=\"277\" sizes=\"(max-width: 391px) 100vw, 391px\" src=\"https://www.worldhistoryedu.com/wp-content/uploads/2019/08/Titanic-Survivors-4.jpg\" srcset=\"https://www.worldhistoryedu.com/wp-content/uploads/2019/08/Titanic-Survivors-4.jpg 326w, https://www.worldhistoryedu.com/wp-content/uploads/2019/08/Titanic-Survivors-4-300x213.jpg 300w\" width=\"391\"/><p class=\"wp-caption-text\" id=\"caption-attachment-2558\"><em>Famous Survivors of the Titanic Disaster</em></p></div>\n",
      "<p style=\"font-weight: 400;\">Slightly more than a century ago, a severe maritime accident brought the world to tears. Dubbed the  “unsinkable” ship, RMS Titanic ironically went down on it’s very first voyage across the North Atlantic Ocean. As a result of speeding in dangerous waters, the ship’s hull was punctured by an iceberg. Out of the over 2200 passengers on board, about 1500 people lost their lives.  Only an estimated 700 souls survived. As follows are 15 Titanic survivors and their remarkable stories. Inclusive in this article is  also a succinct overview of the survivor rates of the Titanic disaster.</p>\n",
      "<h2><strong>Brief Overview of the Titanic Disaster and the Survivors Statistics</strong></h2>\n",
      "<p style=\"font-weight: 400;\">The <a href=\"https://www.worldhistoryedu.com/the-titanic-history-and-facts/\">Titanic was embarking on its very first voyage</a> from England to New York City.  Built to contain luxurious facilities, a good number of famous people boarded the classy ship. But on that very fateful day, money and fame were almost completely useless. When the ship started sinking hourly. As a result of a severe shortage of lifeboats, panic and fear engulfed the passengers. Amidst this dread, several brave individuals stepped up to plate to save the lives of vulnerable women and children.</p>\n",
      "<p style=\"font-weight: 400;\">Read more about some of these <strong><a href=\"https://www.worldhistoryedu.com/10-victims-of-the-titanic-disaster/\">gallant individuals who sacrificed</a></strong> their lives to save other passengers on the Titanic.</p>\n",
      "<p style=\"font-weight: 400;\">The <a href=\"https://www.anesi.com/titanic.htm\">survival rates</a> from the Titanic disaster was much higher for women and children, especially women in the first-class section of the ship. Investigations over decades have revealed that up to 97% of the 144 females in first-class cabins were saved. To some extent, male passengers in the first-class compartment were also lucky; 32% of the 175 first-class men escaped the disaster. Regarding the second class section, the rate of male survival was very appalling. In fact, it was the worst. 14 males survived out of 168. About 24% of third-class passengers survived.</p>\n",
      "<h2><strong>List of Famous Survivors of the Titanic Disaster</strong></h2>\n",
      "<div class=\"wp-caption alignnone\" id=\"attachment_2557\" style=\"width: 358px\"><img alt=\"Titanic Survivors\" aria-describedby=\"caption-attachment-2557\" class=\"wp-image-2557\" height=\"234\" loading=\"lazy\" sizes=\"(max-width: 348px) 100vw, 348px\" src=\"https://www.worldhistoryedu.com/wp-content/uploads/2019/08/Titanic-Survivors2.jpg\" srcset=\"https://www.worldhistoryedu.com/wp-content/uploads/2019/08/Titanic-Survivors2.jpg 557w, https://www.worldhistoryedu.com/wp-content/uploads/2019/08/Titanic-Survivors2-300x201.jpg 300w\" width=\"348\"/><p class=\"wp-caption-text\" id=\"caption-attachment-2557\"><em>Famous Survivors of the Titanic Disaster</em></p></div>\n",
      "<p>These are some very famous survivors from the RMS Titanic disaster- a luxurious ocean liner that heartbreakingly sank on April 15, 1912, in the Atlantic Ocean.</p>\n",
      "<h3><strong>Millvina Dean</strong></h3>\n",
      "<p>Millvina was the youngest person (2 months old) to survive the Titanic sinking. She passed away in 2009 at the age of 97. <a href=\"https://www.theguardian.com/world/2009/jun/01/last-titanic-survivor-dies\">Her death in 2009</a> made her the last dead Titanic survivor.</p><div class=\"code-block code-block-2\" style=\"margin: 8px auto; text-align: center; display: block; clear: both;\">\n",
      "<script async=\"\" src=\"//pagead2.googlesyndication.com/pagead/js/adsbygoogle.js\"></script>\n",
      "<!-- Enoch 2 -->\n",
      "<ins class=\"adsbygoogle\" data-ad-client=\"ca-pub-4359326532339592\" data-ad-slot=\"7080411861\" style=\"display:inline-block;width:300px;height:250px\"></ins>\n",
      "<script>\n",
      "(adsbygoogle = window.adsbygoogle || []).push({});\n",
      "</script>\n",
      "</div>\n",
      "<h3><strong>Bruce Ismay</strong></h3>\n",
      "<p>He was one of the owners of the Titanic ship.   Bruce held a top position as <a href=\"https://edition.cnn.com/2013/09/30/us/titanic-fast-facts/index.html\">manager</a> of International Mercantile Marine. He was a business magnate from England who came under intense criticism after surviving the disaster. As a senior official of the shipping line, there were controversies that Bruce allegedly instructed the captain to speed faster, so that the Titanic could set a speed record upon its arrival in New York City.</p>\n",
      "<h3 style=\"font-weight: 400;\"><strong>The Navratil orphans</strong></h3>\n",
      "<div class=\"wp-caption alignnone\" id=\"attachment_2577\" style=\"width: 267px\"><img alt=\"The Navralti Brothers\" aria-describedby=\"caption-attachment-2577\" class=\"wp-image-2577\" height=\"194\" loading=\"lazy\" sizes=\"(max-width: 257px) 100vw, 257px\" src=\"https://www.worldhistoryedu.com/wp-content/uploads/2019/08/The-Navralti-Brothers.jpg\" srcset=\"https://www.worldhistoryedu.com/wp-content/uploads/2019/08/The-Navralti-Brothers.jpg 527w, https://www.worldhistoryedu.com/wp-content/uploads/2019/08/The-Navralti-Brothers-300x227.jpg 300w\" width=\"257\"/><p class=\"wp-caption-text\" id=\"caption-attachment-2577\">The Navralti Brothers. Image Source: Wikmedia Commons</p></div>\n",
      "<p style=\"font-weight: 400;\"><a data-saferedirecturl=\"https://www.google.com/url?q=https://allthatsinteresting.com/titanic-survivors&amp;source=gmail&amp;ust=1565386474562000&amp;usg=AFQjCNGbh6KcpSO8bfcFkEGi4kmhKURLGA\" href=\"https://allthatsinteresting.com/titanic-survivors\">Michel Navratil and Edmond Navratil</a> were two young brothers who luckily survived the Titanic tragedy. The children’s parents were locked up in divorce conflicts. So, their dad bought the Titanic ticket and planned to relocate with his children to the USA. He even faked names for himself and his children in order to secure tickets. When the Titanic disaster struck and death was about to lay its icy hand on him and the children, Michel Sr. secured the last lifeboat for his children. The Navratil children survived, but their father sadly did not make it.  The sad story of the orphans gained a lot of media attention. After spending a couple of weeks in the care of a French survivor from the Titanic – Margaret Hays – the Navratil children eventually made into the comforting hands of their mother.</p>\n",
      "<div class=\"mceTemp\"></div>\n",
      "<h3 style=\"font-weight: 400;\"><strong>Cosmo and Lucy Duff Gordon</strong></h3>\n",
      "<p style=\"font-weight: 400;\">Cosmo and Lucy Duff gained notoriety on the ship, simply because of their survival. Seated in the first-class compartment as a couple, they <a data-saferedirecturl=\"https://www.google.com/url?q=https://www.biography.com/news/famous-titanic-passengers-surviviors-victims&amp;source=gmail&amp;ust=1565386474562000&amp;usg=AFQjCNHWBbxTpdTCtjvjRyavo9ycEsjI3A\" href=\"https://www.biography.com/news/famous-titanic-passengers-surviviors-victims\">rushed for the first lifeboat</a>. Lucy was a famed fashion designer from Britain. Cosmo (as a rich man) was criticized for bribing the crew and ignoring the women-and-children first policy, but he denied doing so.</p>\n",
      "<p style=\"font-weight: 400;\">If Lucy hadn’t cancelled her Lusitanian trip in 1915, she would have been involved in another ocean tragedy – Germans torpedoed a ship that  she was supposed to be on.</p>\n",
      "<p style=\"font-weight: 400;\">Regarding the Titanic disaster, it has been claimed that the Gordons lifeboat could have carried more than 12 people, but Lucy and her husband allegedly bribed the crew not to allow more passengers to join their boat, they feared for their lives.</p>\n",
      "<h3 style=\"font-weight: 400;\"><strong>Violet Jessop</strong></h3>\n",
      "<div class=\"wp-caption alignnone\" id=\"attachment_2578\" style=\"width: 247px\"><img alt=\"Violet Jessop\" aria-describedby=\"caption-attachment-2578\" class=\"wp-image-2578\" height=\"265\" loading=\"lazy\" sizes=\"(max-width: 237px) 100vw, 237px\" src=\"https://www.worldhistoryedu.com/wp-content/uploads/2019/08/Violet-Jessop.jpg\" srcset=\"https://www.worldhistoryedu.com/wp-content/uploads/2019/08/Violet-Jessop.jpg 365w, https://www.worldhistoryedu.com/wp-content/uploads/2019/08/Violet-Jessop-268x300.jpg 268w\" width=\"237\"/><p class=\"wp-caption-text\" id=\"caption-attachment-2578\">In addition to the RMS Titanic disaster, Violet Jessop survived two separate shipping catastrophes.</p></div>\n",
      "<p style=\"font-weight: 400;\">Jessop was a ship stewardess who survived the Titanic disaster. Before her involvement in the Titanic tragedy, Jessop had early on survived the RMS Olympic collision with another ship. Lucky enough, the watertight compartment of the Olympic worked well and saved their precious lives.</p>\n",
      "<p style=\"font-weight: 400;\">Amidst the commotion and shoving on the sinking Titanic,  Jessop helped non-English passengers to safety before she was officially called to join a lifeboat.</p>\n",
      "<p style=\"font-weight: 400;\">In all, Jessop survived three maritime accidents – the RMS Olympic in 1911; the RMS Titanic in 1912; and the HMHS Britannic in 1916 – before dying in 1971 – she was 83. Due to her remarkable close calls with shipping disasters, Jessop often went by the name, “Miss Unsinkable”.</p>\n",
      "<h3 style=\"font-weight: 400;\"><strong>Madeleine Astor</strong></h3>\n",
      "<p style=\"font-weight: 400;\"><a data-saferedirecturl=\"https://www.google.com/url?q=https://www.dummies.com/education/history/famous-titanic-passengers/&amp;source=gmail&amp;ust=1565386474562000&amp;usg=AFQjCNEsUHVhpEGT5h7BE3wYgk_J-CcCdA\" href=\"https://www.dummies.com/education/history/famous-titanic-passengers/\">Madeline’s husband</a> (John Astor) was the richest person on board with a net worth of 87 million US Dollars. She conditionally inherited her husband’s wealth, but later relinquished the wealth and got remarried several times.</p>\n",
      "<h3 style=\"font-weight: 400;\"><strong>Dorothy Gibson</strong></h3>\n",
      "<p style=\"font-weight: 400;\">She was a young movie star of 22 who survived the 1912 Titanic catastrophe. She later starred in a silent film titled “Saved from the Titanic”. Another very interesting fact about Dorothy Gibson is that she wore her Titanic dress as the costume for the movie. The movie was premiered in May that year.</p>\n",
      "<h3 style=\"font-weight: 400;\"><strong>Frederick Fleet</strong></h3>\n",
      "<div class=\"wp-caption alignnone\" id=\"attachment_2579\" style=\"width: 246px\"><img alt=\"Frederick Fleet\" aria-describedby=\"caption-attachment-2579\" class=\"wp-image-2579\" height=\"203\" loading=\"lazy\" sizes=\"(max-width: 236px) 100vw, 236px\" src=\"https://www.worldhistoryedu.com/wp-content/uploads/2019/08/Frederick-Fleet.jpg\" srcset=\"https://www.worldhistoryedu.com/wp-content/uploads/2019/08/Frederick-Fleet.jpg 539w, https://www.worldhistoryedu.com/wp-content/uploads/2019/08/Frederick-Fleet-300x258.jpg 300w\" width=\"236\"/><p class=\"wp-caption-text\" id=\"caption-attachment-2579\">Frederick Fleet was 25 at the time of the disaster</p></div>\n",
      "<p style=\"font-weight: 400;\">He was a sailor from Britain who became a Titanic crewmember at the age of 25. He was part of the watchmen who saw the iceberg in time. After seeing the iceberg, he sounded a bell and alerted the bridge – it was probably too late but others partly blamed him for the disaster. Fleet in his later life became depressed and took his own life in 1965.</p>\n",
      "<h3 style=\"font-weight: 400;\"><strong>Charles Joughin</strong></h3>\n",
      "<p style=\"font-weight: 400;\">He was a crew member who used his own intelligence to survive the tragedy. After disaster had struck, Charles and other passenger started <a data-saferedirecturl=\"https://www.google.com/url?q=https://www.marineinsight.com/maritime-history/titanic-survivors-and-some-noteworthy-stories/&amp;source=gmail&amp;ust=1565386474562000&amp;usg=AFQjCNF6NWGzTE1e3FjxDkCLruSKIKthxA\" href=\"https://www.marineinsight.com/maritime-history/titanic-survivors-and-some-noteworthy-stories/\">drinking alcohol to defeat the cold</a> developing in the icy waters. Charles consumed alcohol as he helped other passengers to escape to the lifeboats. He didn’t get a space for himself in the boat, but his alcohol consumption helped him to live up to 3 hours in the icy waters before rescue eventually came. He lived for 78 years before dying in New Jersey.</p>\n",
      "<h3 style=\"font-weight: 400;\"><strong>Eva Miriam Harts</strong></h3>\n",
      "<p style=\"font-weight: 400;\">She was only 7-years-old when the disaster caught her together with her parents on the ship. At the time of the accident, she was asleep. Her father’s resilience saved the life of Eva and her mother. Titanic went down with Eva’s father. His body was never identified.</p>\n",
      "<div class=\"code-block code-block-1\" style=\"margin: 8px auto; text-align: center; display: block; clear: both;\">\n",
      "<center>\n",
      "<script async=\"\" src=\"//pagead2.googlesyndication.com/pagead/js/adsbygoogle.js\"></script>\n",
      "<!-- 336*280 -->\n",
      "<ins class=\"adsbygoogle\" data-ad-client=\"ca-pub-4359326532339592\" data-ad-slot=\"2663417069\" style=\"display:inline-block;width:336px;height:280px\"></ins>\n",
      "<script>\n",
      "(adsbygoogle = window.adsbygoogle || []).push({});\n",
      "</script>\n",
      "</center></div>\n",
      "<p style=\"font-weight: 400;\">When she grew up, Eva became a great Australian singer, politician and a magistrate. She strongly criticized the insufficient number of lifeboats, which led to numerous deaths. According to Eva, the Titanic sinking site should be treated with reverence since it is a graveyard. By this, she was against salvage attempts of the Titanic’s wreckage.</p>\n",
      "<h3><strong>Archibald Gracie IV</strong></h3>\n",
      "<div class=\"wp-caption alignnone\" id=\"attachment_2580\" style=\"width: 236px\"><img alt=\"Archibald Gracie IV\" aria-describedby=\"caption-attachment-2580\" class=\"wp-image-2580\" height=\"179\" loading=\"lazy\" sizes=\"(max-width: 226px) 100vw, 226px\" src=\"https://www.worldhistoryedu.com/wp-content/uploads/2019/08/Archibald-Gracie-IV.jpg\" srcset=\"https://www.worldhistoryedu.com/wp-content/uploads/2019/08/Archibald-Gracie-IV.jpg 470w, https://www.worldhistoryedu.com/wp-content/uploads/2019/08/Archibald-Gracie-IV-300x237.jpg 300w\" width=\"226\"/><p class=\"wp-caption-text\" id=\"caption-attachment-2580\">Archibald Gracie IV</p></div>\n",
      "<p>He was a writer and a historian. After surviving the disaster, he wrote a vivid account of the events leading up to the tragedy, but he didn’t live long afterward.</p>\n",
      "<p>After helping scores of other passengers to evacuate the ship, Archibald found himself resurfaced above the icy waters as the ship sank.  He climbed onto a floating lifeboat and later got rescued, along with other survivors.</p>\n",
      "<h3><strong>Henry S. Harper</strong></h3>\n",
      "<p>He was a United States business magnate who belonged to the Harper &amp; Brothers firm. He was among the notable survivors of the Titanic disaster. Harper made a good name for himself as a forest conservationist.<strong> </strong></p>\n",
      "<h3 style=\"font-weight: 400;\"><strong>Charles Lightoller</strong></h3>\n",
      "<p style=\"font-weight: 400;\">He was a second officer on the Titanic. Lightoller strictly observed the women-first policy to the letter, somewhat to the apparent detriment of male passengers. In all fairness he was slightly responsible for allowing half-empty lifeboats sail.  Luckily for him, he survived- this was after he had sank shortly with the ship and later resurfaced. As the minutes rolled by Lightoller;s survival instincts got sharper. He held on to his dear life by clutching onto an inverted boat until rescue came by. Years after the disaster, Lightoller would go on to make a lot of recommendations to improve maritime safety on the high seas.</p>\n",
      "<h3><strong>Margaret Brown</strong></h3>\n",
      "<div class=\"wp-caption alignnone\" id=\"attachment_2582\" style=\"width: 272px\"><img alt=\"Margaret Brown\" aria-describedby=\"caption-attachment-2582\" class=\"wp-image-2582\" height=\"184\" loading=\"lazy\" sizes=\"(max-width: 262px) 100vw, 262px\" src=\"https://www.worldhistoryedu.com/wp-content/uploads/2019/08/Miss-Unsinkable-.jpg\" srcset=\"https://www.worldhistoryedu.com/wp-content/uploads/2019/08/Miss-Unsinkable-.jpg 640w, https://www.worldhistoryedu.com/wp-content/uploads/2019/08/Miss-Unsinkable--300x210.jpg 300w\" width=\"262\"/><p class=\"wp-caption-text\" id=\"caption-attachment-2582\">Margaret Brown, also known as “The Unsinkable Molly Brown”, showed immense courage and rescued a number of drowning passengers.</p></div>\n",
      "<p>She was an influential philanthropist who was among the survivors. Margaret and her husband, James Brown, became extremely wealthy after their mining business flourished at the turn of the 20th century.   As a social activist, she showed much concern for the welfare of children and women. She also helped to row back a lifeboat to the accident scene to save more survivors.  She was nicknamed “The Unsinkable Molly Brown”.  Her Titanic experience later became a Hollywood film.</p><div class=\"code-block code-block-3\" style=\"margin: 8px 0; clear: both;\">\n",
      "<script async=\"\" src=\"https://pagead2.googlesyndication.com/pagead/js/adsbygoogle.js\"></script>\n",
      "<!-- horizontal 2019 -->\n",
      "<ins class=\"adsbygoogle\" data-ad-client=\"ca-pub-4359326532339592\" data-ad-format=\"auto\" data-ad-slot=\"3165818309\" data-full-width-responsive=\"true\" style=\"display:block\"></ins>\n",
      "<script>\n",
      "     (adsbygoogle = window.adsbygoogle || []).push({});\n",
      "</script>\n",
      "</div>\n",
      "<h3 style=\"font-weight: 400;\"><strong>Masabumi Hosono</strong></h3>\n",
      "<p style=\"font-weight: 400;\">He was the only Japanese national onboard the Titanic. As a foreigner, Hosono was initially turned away when he tried to join a lifeboat. When a second lifeboat had enough room for two more people, Hosono hopped in with his dear life. Allegedly, his survival cost him his job. The media ridiculed him and shamed his family until his last days.</p>\n",
      "<h3><strong>Nöel Leslie</strong></h3>\n",
      "<div class=\"wp-caption alignnone\" id=\"attachment_2581\" style=\"width: 233px\"><img alt=\"Noel Leslie\" aria-describedby=\"caption-attachment-2581\" class=\"wp-image-2581\" height=\"299\" loading=\"lazy\" sizes=\"(max-width: 223px) 100vw, 223px\" src=\"https://www.worldhistoryedu.com/wp-content/uploads/2019/08/leslie.jpg\" srcset=\"https://www.worldhistoryedu.com/wp-content/uploads/2019/08/leslie.jpg 339w, https://www.worldhistoryedu.com/wp-content/uploads/2019/08/leslie-224x300.jpg 224w\" width=\"223\"/><p class=\"wp-caption-text\" id=\"caption-attachment-2581\">Nöel Leslie, the Countess of Rothes</p></div>\n",
      "<p>She was a <a href=\"https://www.businessinsider.com/titanic-famous-survivors-victims-2018-4\">British Countess</a>; she rose to the title when she got married to Norman Evelyn Leslie- the Earl of Rothes. Nöel was a popular personality in London. She boarded the ship together with her cousin Cherry.  The cousins were among the lucky passengers who hopped onto lifeboats and survived the tragedy. Leslie, her cousin and some crew members suggested going back to rescue more survivors, but their idea was met with resistance from other lifeboat survivors.   Nöel became very philanthropic after the disaster and discharged duties as a nurse during the <a href=\"https://www.worldhistoryedu.com/history-of-world-war-i/\">First World War</a>.</p>\n",
      "<p style=\"font-weight: 400;\">\n",
      "<!-- AI CONTENT END 1 -->\n",
      "<nav class=\"pagination group\">\n",
      "</nav><!--/.pagination-->\n",
      "</p></div>\n"
     ]
    }
   ],
   "source": [
    "url = 'https://www.worldhistoryedu.com/15-famous-survivors-of-the-titanic-disaster/'\n",
    "html_text = requests.get(url).text\n",
    "\n",
    "soup = BeautifulSoup(html_text, 'lxml') # lxml is the html parser\n",
    "website_text = soup.find('div', class_='entry-inner')\n",
    "print(website_text)"
   ]
  },
  {
   "cell_type": "code",
   "execution_count": 3,
   "id": "ae6e9183",
   "metadata": {},
   "outputs": [
    {
     "name": "stdout",
     "output_type": "stream",
     "text": [
      "[<h3><strong>Millvina Dean</strong></h3>, <h3><strong>Bruce Ismay</strong></h3>, <h3 style=\"font-weight: 400;\"><strong>The Navratil orphans</strong></h3>, <h3 style=\"font-weight: 400;\"><strong>Cosmo and Lucy Duff Gordon</strong></h3>, <h3 style=\"font-weight: 400;\"><strong>Violet Jessop</strong></h3>, <h3 style=\"font-weight: 400;\"><strong>Madeleine Astor</strong></h3>, <h3 style=\"font-weight: 400;\"><strong>Dorothy Gibson</strong></h3>, <h3 style=\"font-weight: 400;\"><strong>Frederick Fleet</strong></h3>, <h3 style=\"font-weight: 400;\"><strong>Charles Joughin</strong></h3>, <h3 style=\"font-weight: 400;\"><strong>Eva Miriam Harts</strong></h3>, <h3><strong>Archibald Gracie IV</strong></h3>, <h3><strong>Henry S. Harper</strong></h3>, <h3 style=\"font-weight: 400;\"><strong>Charles Lightoller</strong></h3>, <h3><strong>Margaret Brown</strong></h3>, <h3 style=\"font-weight: 400;\"><strong>Masabumi Hosono</strong></h3>, <h3><strong>Nöel Leslie</strong></h3>]\n"
     ]
    }
   ],
   "source": [
    "# All <h3> tags contain the survivor's name\n",
    "survivor_names = website_text.find_all('h3')\n",
    "print(survivor_names)"
   ]
  },
  {
   "cell_type": "code",
   "execution_count": 4,
   "id": "3c5230b8",
   "metadata": {},
   "outputs": [
    {
     "name": "stdout",
     "output_type": "stream",
     "text": [
      "0 Millvina Dean\n",
      "1 Bruce Ismay\n",
      "2 The Navratil orphans\n",
      "3 Cosmo and Lucy Duff Gordon\n",
      "4 Violet Jessop\n",
      "5 Madeleine Astor\n",
      "6 Dorothy Gibson\n",
      "7 Frederick Fleet\n",
      "8 Charles Joughin\n",
      "9 Eva Miriam Harts\n",
      "10 Archibald Gracie IV\n",
      "11 Henry S. Harper\n",
      "12 Charles Lightoller\n",
      "13 Margaret Brown\n",
      "14 Masabumi Hosono\n",
      "15 Nöel Leslie\n"
     ]
    }
   ],
   "source": [
    "# Verifying that I can obtain the text\n",
    "for index, survivor in enumerate(survivor_names):\n",
    "    print(index,survivor.text)"
   ]
  },
  {
   "cell_type": "code",
   "execution_count": 5,
   "id": "3ba3fde4",
   "metadata": {},
   "outputs": [
    {
     "name": "stdout",
     "output_type": "stream",
     "text": [
      "Millvina Dean\n",
      "Bruce Ismay\n",
      "The Navratil orphans\n",
      "Cosmo and Lucy Duff Gordon\n",
      "Violet Jessop\n",
      "Madeleine Astor\n",
      "Dorothy Gibson\n",
      "Frederick Fleet\n",
      "Charles Joughin\n",
      "Eva Miriam Harts\n",
      "Archibald Gracie IV\n",
      "Henry S. Harper\n",
      "Charles Lightoller\n",
      "Margaret Brown\n",
      "Masabumi Hosono\n",
      "Nöel Leslie\n"
     ]
    }
   ],
   "source": [
    "#Create a list of the survivors, text only\n",
    "survivor_list = []\n",
    "for name in survivor_names:\n",
    "    survivor_list.append(name.text)\n",
    "    print(name.text)"
   ]
  },
  {
   "cell_type": "code",
   "execution_count": 6,
   "id": "30cab58f",
   "metadata": {},
   "outputs": [
    {
     "data": {
      "text/plain": [
       "{'Millvina Dean': 0,\n",
       " 'Bruce Ismay': 0,\n",
       " 'The Navratil orphans': 0,\n",
       " 'Cosmo and Lucy Duff Gordon': 0,\n",
       " 'Violet Jessop': 0,\n",
       " 'Madeleine Astor': 0,\n",
       " 'Dorothy Gibson': 0,\n",
       " 'Frederick Fleet': 0,\n",
       " 'Charles Joughin': 0,\n",
       " 'Eva Miriam Harts': 0,\n",
       " 'Archibald Gracie IV': 0,\n",
       " 'Henry S. Harper': 0,\n",
       " 'Charles Lightoller': 0,\n",
       " 'Margaret Brown': 0,\n",
       " 'Masabumi Hosono': 0,\n",
       " 'Nöel Leslie': 0}"
      ]
     },
     "execution_count": 6,
     "metadata": {},
     "output_type": "execute_result"
    }
   ],
   "source": [
    "# Create a dictionary to hold the survivor's name\n",
    "# and ultimately the survivor's story\n",
    "# fill the value with 0 as a holding place\n",
    "survivor_dict = {}\n",
    "for i in survivor_list:\n",
    "    survivor_dict[i] = 0\n",
    "\n",
    "survivor_dict"
   ]
  },
  {
   "cell_type": "code",
   "execution_count": 7,
   "id": "900511b8",
   "metadata": {},
   "outputs": [
    {
     "data": {
      "text/plain": [
       "dict"
      ]
     },
     "execution_count": 7,
     "metadata": {},
     "output_type": "execute_result"
    }
   ],
   "source": [
    "# Verifying that it is a dictionary type\n",
    "type(survivor_dict)"
   ]
  },
  {
   "cell_type": "code",
   "execution_count": 8,
   "id": "38e51a0f",
   "metadata": {},
   "outputs": [],
   "source": [
    "# insert data into the new dictionary\n"
   ]
  },
  {
   "cell_type": "code",
   "execution_count": 9,
   "id": "30ef3ef6",
   "metadata": {},
   "outputs": [],
   "source": [
    "# Fina all the paragraph <p> tag holds the Survivor's Story\n",
    "#person_name = website_text.find('h3')\n",
    "paragraphs = website_text.find_all('p')\n",
    "paragraph_text = []\n",
    "for paragraph in paragraphs:\n",
    "    paragraph_text.append(paragraph.text)"
   ]
  },
  {
   "cell_type": "code",
   "execution_count": 10,
   "id": "f2dd2979",
   "metadata": {},
   "outputs": [
    {
     "data": {
      "text/plain": [
       "['Famous Survivors of the Titanic Disaster',\n",
       " 'Slightly more than a century ago, a severe maritime accident brought the world to tears. Dubbed the\\xa0 “unsinkable” ship, RMS Titanic ironically went down on it’s very first voyage across the North Atlantic Ocean. As a result of speeding in dangerous waters, the ship’s hull was punctured by an iceberg. Out of the over 2200 passengers on board, about 1500 people lost their lives.\\xa0 Only an estimated 700 souls survived. As follows are 15 Titanic survivors and their remarkable stories. Inclusive in this article is\\xa0 also a succinct overview of the survivor rates of the Titanic disaster.',\n",
       " 'The Titanic was embarking on its very\\xa0first voyage from England to New York City.\\xa0 Built to contain luxurious facilities, a good number of famous people boarded the classy ship. But on that very fateful day, money and fame were almost completely useless. When the ship started sinking hourly. As a result of a severe shortage of lifeboats, panic and fear engulfed the passengers. Amidst this dread, several brave individuals stepped up to plate to save the lives of vulnerable women and children.',\n",
       " 'Read more about some of these gallant individuals who sacrificed their lives to save other passengers on the Titanic.',\n",
       " 'The survival rates from the Titanic disaster was much higher for women and children, especially women in the first-class section of the ship. Investigations over decades have revealed that up to 97% of the 144 females in first-class cabins were saved. To some extent, male passengers in the first-class compartment were also lucky; 32% of the 175 first-class men escaped the disaster. Regarding the second class section, the rate of male survival was very appalling. In fact, it was the worst. 14 males survived out of 168. About 24% of third-class passengers survived.',\n",
       " 'Famous Survivors of the Titanic Disaster',\n",
       " 'These are some very famous survivors from the RMS Titanic disaster- a luxurious ocean liner that heartbreakingly sank on April 15, 1912, in the Atlantic Ocean.',\n",
       " 'Millvina was the youngest person (2 months old) to survive the Titanic sinking. She passed away in 2009 at the age of 97. Her death in 2009 made her the last dead Titanic survivor.',\n",
       " 'He was one of the owners of the Titanic ship.\\xa0\\xa0 Bruce held a top position as\\xa0manager of International Mercantile Marine. He was a business magnate from England who came under intense criticism after surviving the disaster. As a senior official of the shipping line, there were controversies that Bruce allegedly instructed the captain to speed faster, so that the Titanic could set a speed record upon its arrival in New York City.',\n",
       " 'The Navralti Brothers. Image Source: Wikmedia Commons',\n",
       " 'Michel Navratil and Edmond Navratil were two young brothers who luckily survived the Titanic tragedy. The children’s parents were locked up in divorce conflicts. So, their dad bought the Titanic ticket and planned to relocate with his children to the USA. He even faked names for himself and his children in order to secure tickets. When the Titanic disaster struck and death was about to lay its icy hand on him and the children, Michel Sr. secured the last lifeboat for his children. The Navratil children survived, but their father sadly did not make it.\\xa0 The sad story of the orphans gained a lot of media attention. After spending a couple of weeks in the care of a French survivor from the Titanic – Margaret Hays – the Navratil children eventually made into the comforting hands of their mother.',\n",
       " 'Cosmo and Lucy Duff gained notoriety on the ship, simply because of their survival. Seated in the first-class compartment as a couple, they rushed for the first lifeboat. Lucy was a famed fashion designer from Britain. Cosmo (as a rich man) was criticized for bribing the crew and ignoring the women-and-children first policy, but he denied doing so.',\n",
       " 'If Lucy hadn’t cancelled her Lusitanian trip in 1915, she would have been involved in another ocean tragedy – Germans torpedoed a ship that\\xa0 she was supposed to be on.',\n",
       " 'Regarding the Titanic disaster, it has been claimed that the Gordons lifeboat could have carried more than 12 people, but Lucy and her husband allegedly bribed the crew not to allow more passengers to join their boat, they feared for their lives.',\n",
       " 'In addition to the RMS Titanic disaster, Violet Jessop survived two separate shipping catastrophes.',\n",
       " 'Jessop was a ship stewardess who survived the Titanic disaster. Before her involvement in the Titanic tragedy, Jessop had early on survived the RMS Olympic collision with another ship. Lucky enough, the watertight compartment of the Olympic worked well and saved their precious lives.',\n",
       " 'Amidst the commotion and shoving on the sinking Titanic,\\xa0 Jessop helped non-English passengers to safety before she was officially called to join a lifeboat.',\n",
       " 'In all, Jessop survived three maritime accidents – the RMS Olympic in 1911; the RMS Titanic in 1912; and the HMHS Britannic in 1916 – before dying in 1971 – she was 83. Due to her remarkable close calls with shipping disasters, Jessop often went by the name, “Miss Unsinkable”.',\n",
       " 'Madeline’s husband\\xa0(John Astor) was the richest person on board with a net worth of 87 million US Dollars. She conditionally inherited her husband’s wealth, but later relinquished the wealth and got remarried several times.',\n",
       " 'She was a young movie star of 22 who survived the 1912 Titanic catastrophe. She later starred in a silent film titled “Saved from the Titanic”. Another very interesting fact about Dorothy Gibson is that she wore her Titanic dress as the costume for the movie. The movie was premiered in May that year.',\n",
       " 'Frederick Fleet was 25 at the time of the disaster',\n",
       " 'He was a sailor from Britain who became a Titanic crewmember at the age of 25. He was part of the watchmen who saw the iceberg in time. After seeing the iceberg, he sounded a bell and alerted the bridge – it was probably too late but others partly blamed him for the disaster. Fleet in his later life became depressed and took his own life in 1965.',\n",
       " 'He was a crew member who used his own intelligence to survive the tragedy. After disaster had struck, Charles and other passenger started\\xa0drinking alcohol to defeat the cold developing in the icy waters. Charles consumed alcohol as he helped other passengers to escape to the lifeboats. He didn’t get a space for himself in the boat, but his alcohol consumption helped him to live up to 3 hours in the icy waters before rescue eventually came. He lived for 78 years before dying in New Jersey.',\n",
       " 'She was only 7-years-old when the disaster caught her together with her parents on the ship. At the time of the accident, she was asleep. Her father’s resilience saved the life of Eva and her mother. Titanic went down with Eva’s father. His body was never identified.',\n",
       " 'When she grew up, Eva became a great Australian singer, politician and a magistrate. She strongly criticized the insufficient number of lifeboats, which led to numerous deaths. According to Eva, the Titanic sinking site should be treated with reverence since it is a graveyard. By this, she was against salvage attempts of the Titanic’s wreckage.',\n",
       " 'Archibald Gracie IV',\n",
       " 'He was a writer and a historian. After surviving the disaster, he wrote a vivid account of the events leading up to the tragedy, but he didn’t live long afterward.',\n",
       " 'After helping scores of other passengers to evacuate the ship, Archibald found himself resurfaced above the icy waters as the ship sank.\\xa0 He climbed onto a floating lifeboat and later got rescued, along with other survivors.',\n",
       " 'He was a United States business magnate who belonged to the Harper & Brothers firm. He was among the notable survivors of the Titanic disaster. Harper made a good name for himself as a forest conservationist.\\xa0',\n",
       " 'He was a second officer on the Titanic. Lightoller strictly observed the women-first policy to the letter, somewhat to the apparent detriment of male passengers. In all fairness he was slightly responsible for allowing half-empty lifeboats sail.\\xa0 Luckily for him, he survived- this was after he had sank shortly with the ship and later resurfaced. As the minutes rolled by Lightoller;s survival instincts got sharper. He held on to his dear life by clutching onto an inverted boat until rescue came by. Years after the disaster, Lightoller would go on to make a lot of recommendations to improve maritime safety on the high seas.',\n",
       " 'Margaret Brown, also known as “The Unsinkable Molly Brown”, showed immense courage and rescued a number of drowning passengers.',\n",
       " 'She was an influential philanthropist who was among the survivors. Margaret and her husband, James Brown, became extremely wealthy after their mining business flourished at the turn of the 20th century.\\xa0\\xa0 As a social activist, she showed much concern for the welfare of children and women. She also helped to row back a lifeboat to the accident scene to save more survivors.\\xa0 She was nicknamed “The Unsinkable Molly Brown”.\\xa0 Her Titanic experience later became a Hollywood film.',\n",
       " 'He was the only Japanese national onboard the Titanic. As a foreigner, Hosono was initially turned away when he tried to join a lifeboat. When a second lifeboat had enough room for two more people, Hosono hopped in with his dear life. Allegedly, his survival cost him his job. The media ridiculed him and shamed his family until his last days.',\n",
       " 'Nöel Leslie, the Countess of Rothes',\n",
       " 'She was a\\xa0British Countess; she rose to the title when she got married to Norman Evelyn Leslie- the Earl of Rothes. Nöel was a popular personality in London. She boarded the ship together with her cousin Cherry.\\xa0 The cousins were among the lucky passengers who hopped onto lifeboats and survived the tragedy. Leslie, her cousin and some crew members suggested going back to rescue more survivors, but their idea was met with resistance from other lifeboat survivors.\\xa0\\xa0 Nöel became very philanthropic after the disaster and discharged duties as a nurse during the First World War.',\n",
       " '\\n\\n\\n\\n']"
      ]
     },
     "execution_count": 10,
     "metadata": {},
     "output_type": "execute_result"
    }
   ],
   "source": [
    "paragraph_text"
   ]
  },
  {
   "cell_type": "code",
   "execution_count": 11,
   "id": "b4039412",
   "metadata": {},
   "outputs": [
    {
     "name": "stdout",
     "output_type": "stream",
     "text": [
      "0 Millvina was the youngest person (2 months old) to survive the Titanic sinking. She passed away in 2009 at the age of 97. Her death in 2009 made her the last dead Titanic survivor.\n",
      "1 He was one of the owners of the Titanic ship.   Bruce held a top position as manager of International Mercantile Marine. He was a business magnate from England who came under intense criticism after surviving the disaster. As a senior official of the shipping line, there were controversies that Bruce allegedly instructed the captain to speed faster, so that the Titanic could set a speed record upon its arrival in New York City.\n",
      "2 The Navralti Brothers. Image Source: Wikmedia Commons\n",
      "3 Michel Navratil and Edmond Navratil were two young brothers who luckily survived the Titanic tragedy. The children’s parents were locked up in divorce conflicts. So, their dad bought the Titanic ticket and planned to relocate with his children to the USA. He even faked names for himself and his children in order to secure tickets. When the Titanic disaster struck and death was about to lay its icy hand on him and the children, Michel Sr. secured the last lifeboat for his children. The Navratil children survived, but their father sadly did not make it.  The sad story of the orphans gained a lot of media attention. After spending a couple of weeks in the care of a French survivor from the Titanic – Margaret Hays – the Navratil children eventually made into the comforting hands of their mother.\n",
      "4 Cosmo and Lucy Duff gained notoriety on the ship, simply because of their survival. Seated in the first-class compartment as a couple, they rushed for the first lifeboat. Lucy was a famed fashion designer from Britain. Cosmo (as a rich man) was criticized for bribing the crew and ignoring the women-and-children first policy, but he denied doing so.\n",
      "5 If Lucy hadn’t cancelled her Lusitanian trip in 1915, she would have been involved in another ocean tragedy – Germans torpedoed a ship that  she was supposed to be on.\n",
      "6 Regarding the Titanic disaster, it has been claimed that the Gordons lifeboat could have carried more than 12 people, but Lucy and her husband allegedly bribed the crew not to allow more passengers to join their boat, they feared for their lives.\n",
      "7 In addition to the RMS Titanic disaster, Violet Jessop survived two separate shipping catastrophes.\n",
      "8 Jessop was a ship stewardess who survived the Titanic disaster. Before her involvement in the Titanic tragedy, Jessop had early on survived the RMS Olympic collision with another ship. Lucky enough, the watertight compartment of the Olympic worked well and saved their precious lives.\n",
      "9 Amidst the commotion and shoving on the sinking Titanic,  Jessop helped non-English passengers to safety before she was officially called to join a lifeboat.\n",
      "10 In all, Jessop survived three maritime accidents – the RMS Olympic in 1911; the RMS Titanic in 1912; and the HMHS Britannic in 1916 – before dying in 1971 – she was 83. Due to her remarkable close calls with shipping disasters, Jessop often went by the name, “Miss Unsinkable”.\n",
      "11 Madeline’s husband (John Astor) was the richest person on board with a net worth of 87 million US Dollars. She conditionally inherited her husband’s wealth, but later relinquished the wealth and got remarried several times.\n",
      "12 She was a young movie star of 22 who survived the 1912 Titanic catastrophe. She later starred in a silent film titled “Saved from the Titanic”. Another very interesting fact about Dorothy Gibson is that she wore her Titanic dress as the costume for the movie. The movie was premiered in May that year.\n",
      "13 Frederick Fleet was 25 at the time of the disaster\n",
      "14 He was a sailor from Britain who became a Titanic crewmember at the age of 25. He was part of the watchmen who saw the iceberg in time. After seeing the iceberg, he sounded a bell and alerted the bridge – it was probably too late but others partly blamed him for the disaster. Fleet in his later life became depressed and took his own life in 1965.\n",
      "15 He was a crew member who used his own intelligence to survive the tragedy. After disaster had struck, Charles and other passenger started drinking alcohol to defeat the cold developing in the icy waters. Charles consumed alcohol as he helped other passengers to escape to the lifeboats. He didn’t get a space for himself in the boat, but his alcohol consumption helped him to live up to 3 hours in the icy waters before rescue eventually came. He lived for 78 years before dying in New Jersey.\n",
      "16 She was only 7-years-old when the disaster caught her together with her parents on the ship. At the time of the accident, she was asleep. Her father’s resilience saved the life of Eva and her mother. Titanic went down with Eva’s father. His body was never identified.\n",
      "17 When she grew up, Eva became a great Australian singer, politician and a magistrate. She strongly criticized the insufficient number of lifeboats, which led to numerous deaths. According to Eva, the Titanic sinking site should be treated with reverence since it is a graveyard. By this, she was against salvage attempts of the Titanic’s wreckage.\n",
      "18 Archibald Gracie IV\n",
      "19 He was a writer and a historian. After surviving the disaster, he wrote a vivid account of the events leading up to the tragedy, but he didn’t live long afterward.\n",
      "20 After helping scores of other passengers to evacuate the ship, Archibald found himself resurfaced above the icy waters as the ship sank.  He climbed onto a floating lifeboat and later got rescued, along with other survivors.\n",
      "21 He was a United States business magnate who belonged to the Harper & Brothers firm. He was among the notable survivors of the Titanic disaster. Harper made a good name for himself as a forest conservationist. \n",
      "22 He was a second officer on the Titanic. Lightoller strictly observed the women-first policy to the letter, somewhat to the apparent detriment of male passengers. In all fairness he was slightly responsible for allowing half-empty lifeboats sail.  Luckily for him, he survived- this was after he had sank shortly with the ship and later resurfaced. As the minutes rolled by Lightoller;s survival instincts got sharper. He held on to his dear life by clutching onto an inverted boat until rescue came by. Years after the disaster, Lightoller would go on to make a lot of recommendations to improve maritime safety on the high seas.\n",
      "23 Margaret Brown, also known as “The Unsinkable Molly Brown”, showed immense courage and rescued a number of drowning passengers.\n",
      "24 She was an influential philanthropist who was among the survivors. Margaret and her husband, James Brown, became extremely wealthy after their mining business flourished at the turn of the 20th century.   As a social activist, she showed much concern for the welfare of children and women. She also helped to row back a lifeboat to the accident scene to save more survivors.  She was nicknamed “The Unsinkable Molly Brown”.  Her Titanic experience later became a Hollywood film.\n",
      "25 He was the only Japanese national onboard the Titanic. As a foreigner, Hosono was initially turned away when he tried to join a lifeboat. When a second lifeboat had enough room for two more people, Hosono hopped in with his dear life. Allegedly, his survival cost him his job. The media ridiculed him and shamed his family until his last days.\n",
      "26 Nöel Leslie, the Countess of Rothes\n",
      "27 She was a British Countess; she rose to the title when she got married to Norman Evelyn Leslie- the Earl of Rothes. Nöel was a popular personality in London. She boarded the ship together with her cousin Cherry.  The cousins were among the lucky passengers who hopped onto lifeboats and survived the tragedy. Leslie, her cousin and some crew members suggested going back to rescue more survivors, but their idea was met with resistance from other lifeboat survivors.   Nöel became very philanthropic after the disaster and discharged duties as a nurse during the First World War.\n",
      "28 \n",
      "\n",
      "\n",
      "\n",
      "\n"
     ]
    }
   ],
   "source": [
    "#Create a list of survivor stories to be able to refer to the index\n",
    "# drop the first 7 as they are not stories, just describing the Titanic sinking.\n",
    "# Printing the total number in the list\n",
    "survivor_description = []\n",
    "for index, description in enumerate(paragraph_text[7::]): \n",
    "    print(index, description)\n",
    "    survivor_description.append(description)\n"
   ]
  },
  {
   "cell_type": "code",
   "execution_count": null,
   "id": "a64715fd",
   "metadata": {},
   "outputs": [],
   "source": []
  },
  {
   "cell_type": "code",
   "execution_count": 12,
   "id": "04cf36c9",
   "metadata": {},
   "outputs": [
    {
     "name": "stdout",
     "output_type": "stream",
     "text": [
      "0 Millvina was the youngest person (2 months old) to survive the Titanic sinking. She passed away in 2009 at the age of 97. Her death in 2009 made her the last dead Titanic survivor.\n",
      "1 He was one of the owners of the Titanic ship.   Bruce held a top position as manager of International Mercantile Marine. He was a business magnate from England who came under intense criticism after surviving the disaster. As a senior official of the shipping line, there were controversies that Bruce allegedly instructed the captain to speed faster, so that the Titanic could set a speed record upon its arrival in New York City.\n",
      "2 The Navralti Brothers. Image Source: Wikmedia Commons\n",
      "3 Michel Navratil and Edmond Navratil were two young brothers who luckily survived the Titanic tragedy. The children’s parents were locked up in divorce conflicts. So, their dad bought the Titanic ticket and planned to relocate with his children to the USA. He even faked names for himself and his children in order to secure tickets. When the Titanic disaster struck and death was about to lay its icy hand on him and the children, Michel Sr. secured the last lifeboat for his children. The Navratil children survived, but their father sadly did not make it.  The sad story of the orphans gained a lot of media attention. After spending a couple of weeks in the care of a French survivor from the Titanic – Margaret Hays – the Navratil children eventually made into the comforting hands of their mother.\n",
      "4 Cosmo and Lucy Duff gained notoriety on the ship, simply because of their survival. Seated in the first-class compartment as a couple, they rushed for the first lifeboat. Lucy was a famed fashion designer from Britain. Cosmo (as a rich man) was criticized for bribing the crew and ignoring the women-and-children first policy, but he denied doing so.\n",
      "5 If Lucy hadn’t cancelled her Lusitanian trip in 1915, she would have been involved in another ocean tragedy – Germans torpedoed a ship that  she was supposed to be on.\n",
      "6 Regarding the Titanic disaster, it has been claimed that the Gordons lifeboat could have carried more than 12 people, but Lucy and her husband allegedly bribed the crew not to allow more passengers to join their boat, they feared for their lives.\n",
      "7 In addition to the RMS Titanic disaster, Violet Jessop survived two separate shipping catastrophes.\n",
      "8 Jessop was a ship stewardess who survived the Titanic disaster. Before her involvement in the Titanic tragedy, Jessop had early on survived the RMS Olympic collision with another ship. Lucky enough, the watertight compartment of the Olympic worked well and saved their precious lives.\n",
      "9 Amidst the commotion and shoving on the sinking Titanic,  Jessop helped non-English passengers to safety before she was officially called to join a lifeboat.\n",
      "10 In all, Jessop survived three maritime accidents – the RMS Olympic in 1911; the RMS Titanic in 1912; and the HMHS Britannic in 1916 – before dying in 1971 – she was 83. Due to her remarkable close calls with shipping disasters, Jessop often went by the name, “Miss Unsinkable”.\n",
      "11 Madeline’s husband (John Astor) was the richest person on board with a net worth of 87 million US Dollars. She conditionally inherited her husband’s wealth, but later relinquished the wealth and got remarried several times.\n",
      "12 She was a young movie star of 22 who survived the 1912 Titanic catastrophe. She later starred in a silent film titled “Saved from the Titanic”. Another very interesting fact about Dorothy Gibson is that she wore her Titanic dress as the costume for the movie. The movie was premiered in May that year.\n",
      "13 Frederick Fleet was 25 at the time of the disaster\n",
      "14 He was a sailor from Britain who became a Titanic crewmember at the age of 25. He was part of the watchmen who saw the iceberg in time. After seeing the iceberg, he sounded a bell and alerted the bridge – it was probably too late but others partly blamed him for the disaster. Fleet in his later life became depressed and took his own life in 1965.\n",
      "15 He was a crew member who used his own intelligence to survive the tragedy. After disaster had struck, Charles and other passenger started drinking alcohol to defeat the cold developing in the icy waters. Charles consumed alcohol as he helped other passengers to escape to the lifeboats. He didn’t get a space for himself in the boat, but his alcohol consumption helped him to live up to 3 hours in the icy waters before rescue eventually came. He lived for 78 years before dying in New Jersey.\n",
      "16 She was only 7-years-old when the disaster caught her together with her parents on the ship. At the time of the accident, she was asleep. Her father’s resilience saved the life of Eva and her mother. Titanic went down with Eva’s father. His body was never identified.\n",
      "17 When she grew up, Eva became a great Australian singer, politician and a magistrate. She strongly criticized the insufficient number of lifeboats, which led to numerous deaths. According to Eva, the Titanic sinking site should be treated with reverence since it is a graveyard. By this, she was against salvage attempts of the Titanic’s wreckage.\n",
      "18 Archibald Gracie IV\n",
      "19 He was a writer and a historian. After surviving the disaster, he wrote a vivid account of the events leading up to the tragedy, but he didn’t live long afterward.\n",
      "20 After helping scores of other passengers to evacuate the ship, Archibald found himself resurfaced above the icy waters as the ship sank.  He climbed onto a floating lifeboat and later got rescued, along with other survivors.\n",
      "21 He was a United States business magnate who belonged to the Harper & Brothers firm. He was among the notable survivors of the Titanic disaster. Harper made a good name for himself as a forest conservationist. \n",
      "22 He was a second officer on the Titanic. Lightoller strictly observed the women-first policy to the letter, somewhat to the apparent detriment of male passengers. In all fairness he was slightly responsible for allowing half-empty lifeboats sail.  Luckily for him, he survived- this was after he had sank shortly with the ship and later resurfaced. As the minutes rolled by Lightoller;s survival instincts got sharper. He held on to his dear life by clutching onto an inverted boat until rescue came by. Years after the disaster, Lightoller would go on to make a lot of recommendations to improve maritime safety on the high seas.\n",
      "23 Margaret Brown, also known as “The Unsinkable Molly Brown”, showed immense courage and rescued a number of drowning passengers.\n",
      "24 She was an influential philanthropist who was among the survivors. Margaret and her husband, James Brown, became extremely wealthy after their mining business flourished at the turn of the 20th century.   As a social activist, she showed much concern for the welfare of children and women. She also helped to row back a lifeboat to the accident scene to save more survivors.  She was nicknamed “The Unsinkable Molly Brown”.  Her Titanic experience later became a Hollywood film.\n",
      "25 He was the only Japanese national onboard the Titanic. As a foreigner, Hosono was initially turned away when he tried to join a lifeboat. When a second lifeboat had enough room for two more people, Hosono hopped in with his dear life. Allegedly, his survival cost him his job. The media ridiculed him and shamed his family until his last days.\n",
      "26 Nöel Leslie, the Countess of Rothes\n",
      "27 She was a British Countess; she rose to the title when she got married to Norman Evelyn Leslie- the Earl of Rothes. Nöel was a popular personality in London. She boarded the ship together with her cousin Cherry.  The cousins were among the lucky passengers who hopped onto lifeboats and survived the tragedy. Leslie, her cousin and some crew members suggested going back to rescue more survivors, but their idea was met with resistance from other lifeboat survivors.   Nöel became very philanthropic after the disaster and discharged duties as a nurse during the First World War.\n",
      "28 \n",
      "\n",
      "\n",
      "\n",
      "\n"
     ]
    }
   ],
   "source": [
    "# Verifying again\n",
    "for index, i in enumerate(survivor_description):\n",
    "    print(index, i)"
   ]
  },
  {
   "cell_type": "code",
   "execution_count": 13,
   "id": "0a570929",
   "metadata": {},
   "outputs": [],
   "source": [
    "# Some elements in the list can be joined."
   ]
  },
  {
   "cell_type": "code",
   "execution_count": null,
   "id": "afcc95a5",
   "metadata": {},
   "outputs": [],
   "source": []
  },
  {
   "cell_type": "code",
   "execution_count": 14,
   "id": "60619976",
   "metadata": {},
   "outputs": [],
   "source": [
    "# using join() + list slicing\n",
    "# merging list elements"
   ]
  },
  {
   "cell_type": "code",
   "execution_count": 15,
   "id": "94ac9df7",
   "metadata": {},
   "outputs": [],
   "source": [
    "survivor_description[4:7] = [' '.join(survivor_description[4:7])]\n"
   ]
  },
  {
   "cell_type": "code",
   "execution_count": 16,
   "id": "fc76e91d",
   "metadata": {},
   "outputs": [],
   "source": [
    "survivor_description[5:9] = [' '.join(survivor_description[5:9])]\n"
   ]
  },
  {
   "cell_type": "code",
   "execution_count": 17,
   "id": "b9c99652",
   "metadata": {},
   "outputs": [],
   "source": [
    "survivor_description[8:10] = [' '.join(survivor_description[8:10])]"
   ]
  },
  {
   "cell_type": "code",
   "execution_count": 18,
   "id": "2a47b573",
   "metadata": {},
   "outputs": [],
   "source": [
    "survivor_description[10:12] = [' '.join(survivor_description[10:12])]"
   ]
  },
  {
   "cell_type": "code",
   "execution_count": 19,
   "id": "a76309f7",
   "metadata": {},
   "outputs": [],
   "source": [
    "survivor_description[12:14] = [' '.join(survivor_description[12:14])]"
   ]
  },
  {
   "cell_type": "code",
   "execution_count": 20,
   "id": "ced378a0",
   "metadata": {},
   "outputs": [],
   "source": [
    "survivor_description[15:17] = [' '.join(survivor_description[15:17])]"
   ]
  },
  {
   "cell_type": "code",
   "execution_count": 21,
   "id": "2434b91e",
   "metadata": {},
   "outputs": [],
   "source": [
    "survivor_description[17:19] = [' '.join(survivor_description[17:19])]"
   ]
  },
  {
   "cell_type": "code",
   "execution_count": null,
   "id": "36349fe3",
   "metadata": {},
   "outputs": [],
   "source": []
  },
  {
   "cell_type": "code",
   "execution_count": null,
   "id": "5831f9a5",
   "metadata": {},
   "outputs": [],
   "source": []
  },
  {
   "cell_type": "code",
   "execution_count": 22,
   "id": "eb174e1a",
   "metadata": {},
   "outputs": [],
   "source": [
    "# Delete those elements not needed"
   ]
  },
  {
   "cell_type": "code",
   "execution_count": 23,
   "id": "b7750956",
   "metadata": {},
   "outputs": [],
   "source": [
    "del survivor_description[2]"
   ]
  },
  {
   "cell_type": "code",
   "execution_count": 24,
   "id": "b5b1a96c",
   "metadata": {},
   "outputs": [],
   "source": [
    "del survivor_description[10]"
   ]
  },
  {
   "cell_type": "code",
   "execution_count": 25,
   "id": "a4383b10",
   "metadata": {},
   "outputs": [
    {
     "name": "stdout",
     "output_type": "stream",
     "text": [
      "0 Millvina was the youngest person (2 months old) to survive the Titanic sinking. She passed away in 2009 at the age of 97. Her death in 2009 made her the last dead Titanic survivor.\n",
      "1 He was one of the owners of the Titanic ship.   Bruce held a top position as manager of International Mercantile Marine. He was a business magnate from England who came under intense criticism after surviving the disaster. As a senior official of the shipping line, there were controversies that Bruce allegedly instructed the captain to speed faster, so that the Titanic could set a speed record upon its arrival in New York City.\n",
      "2 Michel Navratil and Edmond Navratil were two young brothers who luckily survived the Titanic tragedy. The children’s parents were locked up in divorce conflicts. So, their dad bought the Titanic ticket and planned to relocate with his children to the USA. He even faked names for himself and his children in order to secure tickets. When the Titanic disaster struck and death was about to lay its icy hand on him and the children, Michel Sr. secured the last lifeboat for his children. The Navratil children survived, but their father sadly did not make it.  The sad story of the orphans gained a lot of media attention. After spending a couple of weeks in the care of a French survivor from the Titanic – Margaret Hays – the Navratil children eventually made into the comforting hands of their mother.\n",
      "3 Cosmo and Lucy Duff gained notoriety on the ship, simply because of their survival. Seated in the first-class compartment as a couple, they rushed for the first lifeboat. Lucy was a famed fashion designer from Britain. Cosmo (as a rich man) was criticized for bribing the crew and ignoring the women-and-children first policy, but he denied doing so. If Lucy hadn’t cancelled her Lusitanian trip in 1915, she would have been involved in another ocean tragedy – Germans torpedoed a ship that  she was supposed to be on. Regarding the Titanic disaster, it has been claimed that the Gordons lifeboat could have carried more than 12 people, but Lucy and her husband allegedly bribed the crew not to allow more passengers to join their boat, they feared for their lives.\n",
      "4 In addition to the RMS Titanic disaster, Violet Jessop survived two separate shipping catastrophes. Jessop was a ship stewardess who survived the Titanic disaster. Before her involvement in the Titanic tragedy, Jessop had early on survived the RMS Olympic collision with another ship. Lucky enough, the watertight compartment of the Olympic worked well and saved their precious lives. Amidst the commotion and shoving on the sinking Titanic,  Jessop helped non-English passengers to safety before she was officially called to join a lifeboat. In all, Jessop survived three maritime accidents – the RMS Olympic in 1911; the RMS Titanic in 1912; and the HMHS Britannic in 1916 – before dying in 1971 – she was 83. Due to her remarkable close calls with shipping disasters, Jessop often went by the name, “Miss Unsinkable”.\n",
      "5 Madeline’s husband (John Astor) was the richest person on board with a net worth of 87 million US Dollars. She conditionally inherited her husband’s wealth, but later relinquished the wealth and got remarried several times.\n",
      "6 She was a young movie star of 22 who survived the 1912 Titanic catastrophe. She later starred in a silent film titled “Saved from the Titanic”. Another very interesting fact about Dorothy Gibson is that she wore her Titanic dress as the costume for the movie. The movie was premiered in May that year.\n",
      "7 Frederick Fleet was 25 at the time of the disaster He was a sailor from Britain who became a Titanic crewmember at the age of 25. He was part of the watchmen who saw the iceberg in time. After seeing the iceberg, he sounded a bell and alerted the bridge – it was probably too late but others partly blamed him for the disaster. Fleet in his later life became depressed and took his own life in 1965.\n",
      "8 He was a crew member who used his own intelligence to survive the tragedy. After disaster had struck, Charles and other passenger started drinking alcohol to defeat the cold developing in the icy waters. Charles consumed alcohol as he helped other passengers to escape to the lifeboats. He didn’t get a space for himself in the boat, but his alcohol consumption helped him to live up to 3 hours in the icy waters before rescue eventually came. He lived for 78 years before dying in New Jersey.\n",
      "9 She was only 7-years-old when the disaster caught her together with her parents on the ship. At the time of the accident, she was asleep. Her father’s resilience saved the life of Eva and her mother. Titanic went down with Eva’s father. His body was never identified. When she grew up, Eva became a great Australian singer, politician and a magistrate. She strongly criticized the insufficient number of lifeboats, which led to numerous deaths. According to Eva, the Titanic sinking site should be treated with reverence since it is a graveyard. By this, she was against salvage attempts of the Titanic’s wreckage.\n",
      "10 He was a writer and a historian. After surviving the disaster, he wrote a vivid account of the events leading up to the tragedy, but he didn’t live long afterward. After helping scores of other passengers to evacuate the ship, Archibald found himself resurfaced above the icy waters as the ship sank.  He climbed onto a floating lifeboat and later got rescued, along with other survivors.\n",
      "11 He was a United States business magnate who belonged to the Harper & Brothers firm. He was among the notable survivors of the Titanic disaster. Harper made a good name for himself as a forest conservationist. \n",
      "12 He was a second officer on the Titanic. Lightoller strictly observed the women-first policy to the letter, somewhat to the apparent detriment of male passengers. In all fairness he was slightly responsible for allowing half-empty lifeboats sail.  Luckily for him, he survived- this was after he had sank shortly with the ship and later resurfaced. As the minutes rolled by Lightoller;s survival instincts got sharper. He held on to his dear life by clutching onto an inverted boat until rescue came by. Years after the disaster, Lightoller would go on to make a lot of recommendations to improve maritime safety on the high seas.\n",
      "13 Margaret Brown, also known as “The Unsinkable Molly Brown”, showed immense courage and rescued a number of drowning passengers. She was an influential philanthropist who was among the survivors. Margaret and her husband, James Brown, became extremely wealthy after their mining business flourished at the turn of the 20th century.   As a social activist, she showed much concern for the welfare of children and women. She also helped to row back a lifeboat to the accident scene to save more survivors.  She was nicknamed “The Unsinkable Molly Brown”.  Her Titanic experience later became a Hollywood film.\n",
      "14 He was the only Japanese national onboard the Titanic. As a foreigner, Hosono was initially turned away when he tried to join a lifeboat. When a second lifeboat had enough room for two more people, Hosono hopped in with his dear life. Allegedly, his survival cost him his job. The media ridiculed him and shamed his family until his last days.\n",
      "15 Nöel Leslie, the Countess of Rothes She was a British Countess; she rose to the title when she got married to Norman Evelyn Leslie- the Earl of Rothes. Nöel was a popular personality in London. She boarded the ship together with her cousin Cherry.  The cousins were among the lucky passengers who hopped onto lifeboats and survived the tragedy. Leslie, her cousin and some crew members suggested going back to rescue more survivors, but their idea was met with resistance from other lifeboat survivors.   Nöel became very philanthropic after the disaster and discharged duties as a nurse during the First World War.\n",
      "16 \n",
      "\n",
      "\n",
      "\n",
      "\n"
     ]
    }
   ],
   "source": [
    "#Print again to verify the joins\n",
    "for n, element in enumerate(survivor_description):\n",
    "    print(n, element)"
   ]
  },
  {
   "cell_type": "code",
   "execution_count": null,
   "id": "6197d3cf",
   "metadata": {},
   "outputs": [],
   "source": []
  },
  {
   "cell_type": "code",
   "execution_count": null,
   "id": "24d51284",
   "metadata": {},
   "outputs": [],
   "source": []
  },
  {
   "cell_type": "code",
   "execution_count": null,
   "id": "e6f0e136",
   "metadata": {},
   "outputs": [],
   "source": []
  },
  {
   "cell_type": "code",
   "execution_count": 26,
   "id": "424095de",
   "metadata": {},
   "outputs": [],
   "source": [
    "#description_test = description_condensed[::]\n",
    "#survivor_dict_test = survivor_dict"
   ]
  },
  {
   "cell_type": "code",
   "execution_count": 27,
   "id": "151bddce",
   "metadata": {},
   "outputs": [],
   "source": [
    "#survivor_dict_test.keys()"
   ]
  },
  {
   "cell_type": "code",
   "execution_count": 28,
   "id": "ac65bb3b",
   "metadata": {},
   "outputs": [
    {
     "name": "stdout",
     "output_type": "stream",
     "text": [
      "Millvina was the youngest person (2 months old) to survive the Titanic sinking. She passed away in 2009 at the age of 97. Her death in 2009 made her the last dead Titanic survivor.\n",
      "He was one of the owners of the Titanic ship.   Bruce held a top position as manager of International Mercantile Marine. He was a business magnate from England who came under intense criticism after surviving the disaster. As a senior official of the shipping line, there were controversies that Bruce allegedly instructed the captain to speed faster, so that the Titanic could set a speed record upon its arrival in New York City.\n",
      "Michel Navratil and Edmond Navratil were two young brothers who luckily survived the Titanic tragedy. The children’s parents were locked up in divorce conflicts. So, their dad bought the Titanic ticket and planned to relocate with his children to the USA. He even faked names for himself and his children in order to secure tickets. When the Titanic disaster struck and death was about to lay its icy hand on him and the children, Michel Sr. secured the last lifeboat for his children. The Navratil children survived, but their father sadly did not make it.  The sad story of the orphans gained a lot of media attention. After spending a couple of weeks in the care of a French survivor from the Titanic – Margaret Hays – the Navratil children eventually made into the comforting hands of their mother.\n",
      "Cosmo and Lucy Duff gained notoriety on the ship, simply because of their survival. Seated in the first-class compartment as a couple, they rushed for the first lifeboat. Lucy was a famed fashion designer from Britain. Cosmo (as a rich man) was criticized for bribing the crew and ignoring the women-and-children first policy, but he denied doing so. If Lucy hadn’t cancelled her Lusitanian trip in 1915, she would have been involved in another ocean tragedy – Germans torpedoed a ship that  she was supposed to be on. Regarding the Titanic disaster, it has been claimed that the Gordons lifeboat could have carried more than 12 people, but Lucy and her husband allegedly bribed the crew not to allow more passengers to join their boat, they feared for their lives.\n",
      "In addition to the RMS Titanic disaster, Violet Jessop survived two separate shipping catastrophes. Jessop was a ship stewardess who survived the Titanic disaster. Before her involvement in the Titanic tragedy, Jessop had early on survived the RMS Olympic collision with another ship. Lucky enough, the watertight compartment of the Olympic worked well and saved their precious lives. Amidst the commotion and shoving on the sinking Titanic,  Jessop helped non-English passengers to safety before she was officially called to join a lifeboat. In all, Jessop survived three maritime accidents – the RMS Olympic in 1911; the RMS Titanic in 1912; and the HMHS Britannic in 1916 – before dying in 1971 – she was 83. Due to her remarkable close calls with shipping disasters, Jessop often went by the name, “Miss Unsinkable”.\n",
      "Madeline’s husband (John Astor) was the richest person on board with a net worth of 87 million US Dollars. She conditionally inherited her husband’s wealth, but later relinquished the wealth and got remarried several times.\n",
      "She was a young movie star of 22 who survived the 1912 Titanic catastrophe. She later starred in a silent film titled “Saved from the Titanic”. Another very interesting fact about Dorothy Gibson is that she wore her Titanic dress as the costume for the movie. The movie was premiered in May that year.\n",
      "Frederick Fleet was 25 at the time of the disaster He was a sailor from Britain who became a Titanic crewmember at the age of 25. He was part of the watchmen who saw the iceberg in time. After seeing the iceberg, he sounded a bell and alerted the bridge – it was probably too late but others partly blamed him for the disaster. Fleet in his later life became depressed and took his own life in 1965.\n",
      "He was a crew member who used his own intelligence to survive the tragedy. After disaster had struck, Charles and other passenger started drinking alcohol to defeat the cold developing in the icy waters. Charles consumed alcohol as he helped other passengers to escape to the lifeboats. He didn’t get a space for himself in the boat, but his alcohol consumption helped him to live up to 3 hours in the icy waters before rescue eventually came. He lived for 78 years before dying in New Jersey.\n",
      "She was only 7-years-old when the disaster caught her together with her parents on the ship. At the time of the accident, she was asleep. Her father’s resilience saved the life of Eva and her mother. Titanic went down with Eva’s father. His body was never identified. When she grew up, Eva became a great Australian singer, politician and a magistrate. She strongly criticized the insufficient number of lifeboats, which led to numerous deaths. According to Eva, the Titanic sinking site should be treated with reverence since it is a graveyard. By this, she was against salvage attempts of the Titanic’s wreckage.\n",
      "He was a writer and a historian. After surviving the disaster, he wrote a vivid account of the events leading up to the tragedy, but he didn’t live long afterward. After helping scores of other passengers to evacuate the ship, Archibald found himself resurfaced above the icy waters as the ship sank.  He climbed onto a floating lifeboat and later got rescued, along with other survivors.\n",
      "He was a United States business magnate who belonged to the Harper & Brothers firm. He was among the notable survivors of the Titanic disaster. Harper made a good name for himself as a forest conservationist. \n",
      "He was a second officer on the Titanic. Lightoller strictly observed the women-first policy to the letter, somewhat to the apparent detriment of male passengers. In all fairness he was slightly responsible for allowing half-empty lifeboats sail.  Luckily for him, he survived- this was after he had sank shortly with the ship and later resurfaced. As the minutes rolled by Lightoller;s survival instincts got sharper. He held on to his dear life by clutching onto an inverted boat until rescue came by. Years after the disaster, Lightoller would go on to make a lot of recommendations to improve maritime safety on the high seas.\n",
      "Margaret Brown, also known as “The Unsinkable Molly Brown”, showed immense courage and rescued a number of drowning passengers. She was an influential philanthropist who was among the survivors. Margaret and her husband, James Brown, became extremely wealthy after their mining business flourished at the turn of the 20th century.   As a social activist, she showed much concern for the welfare of children and women. She also helped to row back a lifeboat to the accident scene to save more survivors.  She was nicknamed “The Unsinkable Molly Brown”.  Her Titanic experience later became a Hollywood film.\n",
      "He was the only Japanese national onboard the Titanic. As a foreigner, Hosono was initially turned away when he tried to join a lifeboat. When a second lifeboat had enough room for two more people, Hosono hopped in with his dear life. Allegedly, his survival cost him his job. The media ridiculed him and shamed his family until his last days.\n",
      "Nöel Leslie, the Countess of Rothes She was a British Countess; she rose to the title when she got married to Norman Evelyn Leslie- the Earl of Rothes. Nöel was a popular personality in London. She boarded the ship together with her cousin Cherry.  The cousins were among the lucky passengers who hopped onto lifeboats and survived the tragedy. Leslie, her cousin and some crew members suggested going back to rescue more survivors, but their idea was met with resistance from other lifeboat survivors.   Nöel became very philanthropic after the disaster and discharged duties as a nurse during the First World War.\n",
      "\n",
      "\n",
      "\n",
      "\n",
      "\n"
     ]
    }
   ],
   "source": [
    "# Replace\n",
    "#https://stackoverflow.com/questions/10993612/how-to-remove-xa0-from-string-in-python\n",
    "for phrase in survivor_description:\n",
    "    for word in phrase:\n",
    "            word = word.replace(u'\\xa0', u' ')\n",
    "    print(phrase)"
   ]
  },
  {
   "cell_type": "code",
   "execution_count": 29,
   "id": "c65071d7",
   "metadata": {},
   "outputs": [
    {
     "data": {
      "text/plain": [
       "{'Millvina Dean': 'Millvina was the youngest person (2 months old) to survive the Titanic sinking. She passed away in 2009 at the age of 97. Her death in 2009 made her the last dead Titanic survivor.',\n",
       " 'Bruce Ismay': 'He was one of the owners of the Titanic ship.\\xa0\\xa0 Bruce held a top position as\\xa0manager of International Mercantile Marine. He was a business magnate from England who came under intense criticism after surviving the disaster. As a senior official of the shipping line, there were controversies that Bruce allegedly instructed the captain to speed faster, so that the Titanic could set a speed record upon its arrival in New York City.',\n",
       " 'The Navratil orphans': 'Michel Navratil and Edmond Navratil were two young brothers who luckily survived the Titanic tragedy. The children’s parents were locked up in divorce conflicts. So, their dad bought the Titanic ticket and planned to relocate with his children to the USA. He even faked names for himself and his children in order to secure tickets. When the Titanic disaster struck and death was about to lay its icy hand on him and the children, Michel Sr. secured the last lifeboat for his children. The Navratil children survived, but their father sadly did not make it.\\xa0 The sad story of the orphans gained a lot of media attention. After spending a couple of weeks in the care of a French survivor from the Titanic – Margaret Hays – the Navratil children eventually made into the comforting hands of their mother.',\n",
       " 'Cosmo and Lucy Duff Gordon': 'Cosmo and Lucy Duff gained notoriety on the ship, simply because of their survival. Seated in the first-class compartment as a couple, they rushed for the first lifeboat. Lucy was a famed fashion designer from Britain. Cosmo (as a rich man) was criticized for bribing the crew and ignoring the women-and-children first policy, but he denied doing so. If Lucy hadn’t cancelled her Lusitanian trip in 1915, she would have been involved in another ocean tragedy – Germans torpedoed a ship that\\xa0 she was supposed to be on. Regarding the Titanic disaster, it has been claimed that the Gordons lifeboat could have carried more than 12 people, but Lucy and her husband allegedly bribed the crew not to allow more passengers to join their boat, they feared for their lives.',\n",
       " 'Violet Jessop': 'In addition to the RMS Titanic disaster, Violet Jessop survived two separate shipping catastrophes. Jessop was a ship stewardess who survived the Titanic disaster. Before her involvement in the Titanic tragedy, Jessop had early on survived the RMS Olympic collision with another ship. Lucky enough, the watertight compartment of the Olympic worked well and saved their precious lives. Amidst the commotion and shoving on the sinking Titanic,\\xa0 Jessop helped non-English passengers to safety before she was officially called to join a lifeboat. In all, Jessop survived three maritime accidents – the RMS Olympic in 1911; the RMS Titanic in 1912; and the HMHS Britannic in 1916 – before dying in 1971 – she was 83. Due to her remarkable close calls with shipping disasters, Jessop often went by the name, “Miss Unsinkable”.',\n",
       " 'Madeleine Astor': 'Madeline’s husband\\xa0(John Astor) was the richest person on board with a net worth of 87 million US Dollars. She conditionally inherited her husband’s wealth, but later relinquished the wealth and got remarried several times.',\n",
       " 'Dorothy Gibson': 'She was a young movie star of 22 who survived the 1912 Titanic catastrophe. She later starred in a silent film titled “Saved from the Titanic”. Another very interesting fact about Dorothy Gibson is that she wore her Titanic dress as the costume for the movie. The movie was premiered in May that year.',\n",
       " 'Frederick Fleet': 'Frederick Fleet was 25 at the time of the disaster He was a sailor from Britain who became a Titanic crewmember at the age of 25. He was part of the watchmen who saw the iceberg in time. After seeing the iceberg, he sounded a bell and alerted the bridge – it was probably too late but others partly blamed him for the disaster. Fleet in his later life became depressed and took his own life in 1965.',\n",
       " 'Charles Joughin': 'He was a crew member who used his own intelligence to survive the tragedy. After disaster had struck, Charles and other passenger started\\xa0drinking alcohol to defeat the cold developing in the icy waters. Charles consumed alcohol as he helped other passengers to escape to the lifeboats. He didn’t get a space for himself in the boat, but his alcohol consumption helped him to live up to 3 hours in the icy waters before rescue eventually came. He lived for 78 years before dying in New Jersey.',\n",
       " 'Eva Miriam Harts': 'She was only 7-years-old when the disaster caught her together with her parents on the ship. At the time of the accident, she was asleep. Her father’s resilience saved the life of Eva and her mother. Titanic went down with Eva’s father. His body was never identified. When she grew up, Eva became a great Australian singer, politician and a magistrate. She strongly criticized the insufficient number of lifeboats, which led to numerous deaths. According to Eva, the Titanic sinking site should be treated with reverence since it is a graveyard. By this, she was against salvage attempts of the Titanic’s wreckage.',\n",
       " 'Archibald Gracie IV': 'He was a writer and a historian. After surviving the disaster, he wrote a vivid account of the events leading up to the tragedy, but he didn’t live long afterward. After helping scores of other passengers to evacuate the ship, Archibald found himself resurfaced above the icy waters as the ship sank.\\xa0 He climbed onto a floating lifeboat and later got rescued, along with other survivors.',\n",
       " 'Henry S. Harper': 'He was a United States business magnate who belonged to the Harper & Brothers firm. He was among the notable survivors of the Titanic disaster. Harper made a good name for himself as a forest conservationist.\\xa0',\n",
       " 'Charles Lightoller': 'He was a second officer on the Titanic. Lightoller strictly observed the women-first policy to the letter, somewhat to the apparent detriment of male passengers. In all fairness he was slightly responsible for allowing half-empty lifeboats sail.\\xa0 Luckily for him, he survived- this was after he had sank shortly with the ship and later resurfaced. As the minutes rolled by Lightoller;s survival instincts got sharper. He held on to his dear life by clutching onto an inverted boat until rescue came by. Years after the disaster, Lightoller would go on to make a lot of recommendations to improve maritime safety on the high seas.',\n",
       " 'Margaret Brown': 'Margaret Brown, also known as “The Unsinkable Molly Brown”, showed immense courage and rescued a number of drowning passengers. She was an influential philanthropist who was among the survivors. Margaret and her husband, James Brown, became extremely wealthy after their mining business flourished at the turn of the 20th century.\\xa0\\xa0 As a social activist, she showed much concern for the welfare of children and women. She also helped to row back a lifeboat to the accident scene to save more survivors.\\xa0 She was nicknamed “The Unsinkable Molly Brown”.\\xa0 Her Titanic experience later became a Hollywood film.',\n",
       " 'Masabumi Hosono': 'He was the only Japanese national onboard the Titanic. As a foreigner, Hosono was initially turned away when he tried to join a lifeboat. When a second lifeboat had enough room for two more people, Hosono hopped in with his dear life. Allegedly, his survival cost him his job. The media ridiculed him and shamed his family until his last days.',\n",
       " 'Nöel Leslie': 'Nöel Leslie, the Countess of Rothes She was a\\xa0British Countess; she rose to the title when she got married to Norman Evelyn Leslie- the Earl of Rothes. Nöel was a popular personality in London. She boarded the ship together with her cousin Cherry.\\xa0 The cousins were among the lucky passengers who hopped onto lifeboats and survived the tragedy. Leslie, her cousin and some crew members suggested going back to rescue more survivors, but their idea was met with resistance from other lifeboat survivors.\\xa0\\xa0 Nöel became very philanthropic after the disaster and discharged duties as a nurse during the First World War.'}"
      ]
     },
     "execution_count": 29,
     "metadata": {},
     "output_type": "execute_result"
    }
   ],
   "source": [
    "\n",
    "#for count, passenger in enumerate(survivor_dict_test.keys()):\n",
    "#    survivor_dict_test[passenger]=(description_test[count])\n",
    "#survivor_dict_test\n",
    "\n",
    "\n",
    "#Adding values to the dictionary\n",
    "for count, passenger in enumerate(survivor_dict.keys()):\n",
    "    survivor_dict[passenger]=(survivor_description[count])\n",
    "survivor_dict"
   ]
  },
  {
   "cell_type": "code",
   "execution_count": null,
   "id": "0dbd8e6f",
   "metadata": {},
   "outputs": [],
   "source": []
  },
  {
   "cell_type": "code",
   "execution_count": 30,
   "id": "bad69dfc",
   "metadata": {},
   "outputs": [],
   "source": [
    "# Create Database of names and matching stories\n",
    "\n",
    "survivor_df = pd.DataFrame.from_dict(survivor_dict, orient='index') "
   ]
  },
  {
   "cell_type": "code",
   "execution_count": 31,
   "id": "6577f37e",
   "metadata": {},
   "outputs": [],
   "source": [
    "survivor_df.columns=['Survivor_Story']"
   ]
  },
  {
   "cell_type": "code",
   "execution_count": 32,
   "id": "c8eb111e",
   "metadata": {},
   "outputs": [],
   "source": [
    "pd.set_option('display.max_rows', None)\n",
    "pd.set_option('display.max_columns', None)\n",
    "pd.set_option('display.width', None)\n",
    "pd.set_option('display.max_colwidth', None)\n"
   ]
  },
  {
   "cell_type": "code",
   "execution_count": 33,
   "id": "631caad8",
   "metadata": {},
   "outputs": [
    {
     "data": {
      "text/html": [
       "<div>\n",
       "<style scoped>\n",
       "    .dataframe tbody tr th:only-of-type {\n",
       "        vertical-align: middle;\n",
       "    }\n",
       "\n",
       "    .dataframe tbody tr th {\n",
       "        vertical-align: top;\n",
       "    }\n",
       "\n",
       "    .dataframe thead th {\n",
       "        text-align: right;\n",
       "    }\n",
       "</style>\n",
       "<table border=\"1\" class=\"dataframe\">\n",
       "  <thead>\n",
       "    <tr style=\"text-align: right;\">\n",
       "      <th></th>\n",
       "      <th>Survivor_Story</th>\n",
       "    </tr>\n",
       "  </thead>\n",
       "  <tbody>\n",
       "    <tr>\n",
       "      <th>Millvina Dean</th>\n",
       "      <td>Millvina was the youngest person (2 months old) to survive the Titanic sinking. She passed away in 2009 at the age of 97. Her death in 2009 made her the last dead Titanic survivor.</td>\n",
       "    </tr>\n",
       "    <tr>\n",
       "      <th>Bruce Ismay</th>\n",
       "      <td>He was one of the owners of the Titanic ship.   Bruce held a top position as manager of International Mercantile Marine. He was a business magnate from England who came under intense criticism after surviving the disaster. As a senior official of the shipping line, there were controversies that Bruce allegedly instructed the captain to speed faster, so that the Titanic could set a speed record upon its arrival in New York City.</td>\n",
       "    </tr>\n",
       "    <tr>\n",
       "      <th>The Navratil orphans</th>\n",
       "      <td>Michel Navratil and Edmond Navratil were two young brothers who luckily survived the Titanic tragedy. The children’s parents were locked up in divorce conflicts. So, their dad bought the Titanic ticket and planned to relocate with his children to the USA. He even faked names for himself and his children in order to secure tickets. When the Titanic disaster struck and death was about to lay its icy hand on him and the children, Michel Sr. secured the last lifeboat for his children. The Navratil children survived, but their father sadly did not make it.  The sad story of the orphans gained a lot of media attention. After spending a couple of weeks in the care of a French survivor from the Titanic – Margaret Hays – the Navratil children eventually made into the comforting hands of their mother.</td>\n",
       "    </tr>\n",
       "    <tr>\n",
       "      <th>Cosmo and Lucy Duff Gordon</th>\n",
       "      <td>Cosmo and Lucy Duff gained notoriety on the ship, simply because of their survival. Seated in the first-class compartment as a couple, they rushed for the first lifeboat. Lucy was a famed fashion designer from Britain. Cosmo (as a rich man) was criticized for bribing the crew and ignoring the women-and-children first policy, but he denied doing so. If Lucy hadn’t cancelled her Lusitanian trip in 1915, she would have been involved in another ocean tragedy – Germans torpedoed a ship that  she was supposed to be on. Regarding the Titanic disaster, it has been claimed that the Gordons lifeboat could have carried more than 12 people, but Lucy and her husband allegedly bribed the crew not to allow more passengers to join their boat, they feared for their lives.</td>\n",
       "    </tr>\n",
       "    <tr>\n",
       "      <th>Violet Jessop</th>\n",
       "      <td>In addition to the RMS Titanic disaster, Violet Jessop survived two separate shipping catastrophes. Jessop was a ship stewardess who survived the Titanic disaster. Before her involvement in the Titanic tragedy, Jessop had early on survived the RMS Olympic collision with another ship. Lucky enough, the watertight compartment of the Olympic worked well and saved their precious lives. Amidst the commotion and shoving on the sinking Titanic,  Jessop helped non-English passengers to safety before she was officially called to join a lifeboat. In all, Jessop survived three maritime accidents – the RMS Olympic in 1911; the RMS Titanic in 1912; and the HMHS Britannic in 1916 – before dying in 1971 – she was 83. Due to her remarkable close calls with shipping disasters, Jessop often went by the name, “Miss Unsinkable”.</td>\n",
       "    </tr>\n",
       "    <tr>\n",
       "      <th>Madeleine Astor</th>\n",
       "      <td>Madeline’s husband (John Astor) was the richest person on board with a net worth of 87 million US Dollars. She conditionally inherited her husband’s wealth, but later relinquished the wealth and got remarried several times.</td>\n",
       "    </tr>\n",
       "    <tr>\n",
       "      <th>Dorothy Gibson</th>\n",
       "      <td>She was a young movie star of 22 who survived the 1912 Titanic catastrophe. She later starred in a silent film titled “Saved from the Titanic”. Another very interesting fact about Dorothy Gibson is that she wore her Titanic dress as the costume for the movie. The movie was premiered in May that year.</td>\n",
       "    </tr>\n",
       "    <tr>\n",
       "      <th>Frederick Fleet</th>\n",
       "      <td>Frederick Fleet was 25 at the time of the disaster He was a sailor from Britain who became a Titanic crewmember at the age of 25. He was part of the watchmen who saw the iceberg in time. After seeing the iceberg, he sounded a bell and alerted the bridge – it was probably too late but others partly blamed him for the disaster. Fleet in his later life became depressed and took his own life in 1965.</td>\n",
       "    </tr>\n",
       "    <tr>\n",
       "      <th>Charles Joughin</th>\n",
       "      <td>He was a crew member who used his own intelligence to survive the tragedy. After disaster had struck, Charles and other passenger started drinking alcohol to defeat the cold developing in the icy waters. Charles consumed alcohol as he helped other passengers to escape to the lifeboats. He didn’t get a space for himself in the boat, but his alcohol consumption helped him to live up to 3 hours in the icy waters before rescue eventually came. He lived for 78 years before dying in New Jersey.</td>\n",
       "    </tr>\n",
       "    <tr>\n",
       "      <th>Eva Miriam Harts</th>\n",
       "      <td>She was only 7-years-old when the disaster caught her together with her parents on the ship. At the time of the accident, she was asleep. Her father’s resilience saved the life of Eva and her mother. Titanic went down with Eva’s father. His body was never identified. When she grew up, Eva became a great Australian singer, politician and a magistrate. She strongly criticized the insufficient number of lifeboats, which led to numerous deaths. According to Eva, the Titanic sinking site should be treated with reverence since it is a graveyard. By this, she was against salvage attempts of the Titanic’s wreckage.</td>\n",
       "    </tr>\n",
       "    <tr>\n",
       "      <th>Archibald Gracie IV</th>\n",
       "      <td>He was a writer and a historian. After surviving the disaster, he wrote a vivid account of the events leading up to the tragedy, but he didn’t live long afterward. After helping scores of other passengers to evacuate the ship, Archibald found himself resurfaced above the icy waters as the ship sank.  He climbed onto a floating lifeboat and later got rescued, along with other survivors.</td>\n",
       "    </tr>\n",
       "    <tr>\n",
       "      <th>Henry S. Harper</th>\n",
       "      <td>He was a United States business magnate who belonged to the Harper &amp; Brothers firm. He was among the notable survivors of the Titanic disaster. Harper made a good name for himself as a forest conservationist.</td>\n",
       "    </tr>\n",
       "    <tr>\n",
       "      <th>Charles Lightoller</th>\n",
       "      <td>He was a second officer on the Titanic. Lightoller strictly observed the women-first policy to the letter, somewhat to the apparent detriment of male passengers. In all fairness he was slightly responsible for allowing half-empty lifeboats sail.  Luckily for him, he survived- this was after he had sank shortly with the ship and later resurfaced. As the minutes rolled by Lightoller;s survival instincts got sharper. He held on to his dear life by clutching onto an inverted boat until rescue came by. Years after the disaster, Lightoller would go on to make a lot of recommendations to improve maritime safety on the high seas.</td>\n",
       "    </tr>\n",
       "    <tr>\n",
       "      <th>Margaret Brown</th>\n",
       "      <td>Margaret Brown, also known as “The Unsinkable Molly Brown”, showed immense courage and rescued a number of drowning passengers. She was an influential philanthropist who was among the survivors. Margaret and her husband, James Brown, became extremely wealthy after their mining business flourished at the turn of the 20th century.   As a social activist, she showed much concern for the welfare of children and women. She also helped to row back a lifeboat to the accident scene to save more survivors.  She was nicknamed “The Unsinkable Molly Brown”.  Her Titanic experience later became a Hollywood film.</td>\n",
       "    </tr>\n",
       "    <tr>\n",
       "      <th>Masabumi Hosono</th>\n",
       "      <td>He was the only Japanese national onboard the Titanic. As a foreigner, Hosono was initially turned away when he tried to join a lifeboat. When a second lifeboat had enough room for two more people, Hosono hopped in with his dear life. Allegedly, his survival cost him his job. The media ridiculed him and shamed his family until his last days.</td>\n",
       "    </tr>\n",
       "    <tr>\n",
       "      <th>Nöel Leslie</th>\n",
       "      <td>Nöel Leslie, the Countess of Rothes She was a British Countess; she rose to the title when she got married to Norman Evelyn Leslie- the Earl of Rothes. Nöel was a popular personality in London. She boarded the ship together with her cousin Cherry.  The cousins were among the lucky passengers who hopped onto lifeboats and survived the tragedy. Leslie, her cousin and some crew members suggested going back to rescue more survivors, but their idea was met with resistance from other lifeboat survivors.   Nöel became very philanthropic after the disaster and discharged duties as a nurse during the First World War.</td>\n",
       "    </tr>\n",
       "  </tbody>\n",
       "</table>\n",
       "</div>"
      ],
      "text/plain": [
       "                                                                                                                                                                                                                                                                                                                                                                                                                                                                                                                                                                                                                                                                                                                                                                                                                                                                  Survivor_Story\n",
       "Millvina Dean                                                                                                                                                                                                                                                                                                                                                                                                                                                                                                                                                                                                                                                                               Millvina was the youngest person (2 months old) to survive the Titanic sinking. She passed away in 2009 at the age of 97. Her death in 2009 made her the last dead Titanic survivor.\n",
       "Bruce Ismay                                                                                                                                                                                                                                                                                                                                                                                                                      He was one of the owners of the Titanic ship.   Bruce held a top position as manager of International Mercantile Marine. He was a business magnate from England who came under intense criticism after surviving the disaster. As a senior official of the shipping line, there were controversies that Bruce allegedly instructed the captain to speed faster, so that the Titanic could set a speed record upon its arrival in New York City.\n",
       "The Navratil orphans                          Michel Navratil and Edmond Navratil were two young brothers who luckily survived the Titanic tragedy. The children’s parents were locked up in divorce conflicts. So, their dad bought the Titanic ticket and planned to relocate with his children to the USA. He even faked names for himself and his children in order to secure tickets. When the Titanic disaster struck and death was about to lay its icy hand on him and the children, Michel Sr. secured the last lifeboat for his children. The Navratil children survived, but their father sadly did not make it.  The sad story of the orphans gained a lot of media attention. After spending a couple of weeks in the care of a French survivor from the Titanic – Margaret Hays – the Navratil children eventually made into the comforting hands of their mother.\n",
       "Cosmo and Lucy Duff Gordon                                                         Cosmo and Lucy Duff gained notoriety on the ship, simply because of their survival. Seated in the first-class compartment as a couple, they rushed for the first lifeboat. Lucy was a famed fashion designer from Britain. Cosmo (as a rich man) was criticized for bribing the crew and ignoring the women-and-children first policy, but he denied doing so. If Lucy hadn’t cancelled her Lusitanian trip in 1915, she would have been involved in another ocean tragedy – Germans torpedoed a ship that  she was supposed to be on. Regarding the Titanic disaster, it has been claimed that the Gordons lifeboat could have carried more than 12 people, but Lucy and her husband allegedly bribed the crew not to allow more passengers to join their boat, they feared for their lives.\n",
       "Violet Jessop               In addition to the RMS Titanic disaster, Violet Jessop survived two separate shipping catastrophes. Jessop was a ship stewardess who survived the Titanic disaster. Before her involvement in the Titanic tragedy, Jessop had early on survived the RMS Olympic collision with another ship. Lucky enough, the watertight compartment of the Olympic worked well and saved their precious lives. Amidst the commotion and shoving on the sinking Titanic,  Jessop helped non-English passengers to safety before she was officially called to join a lifeboat. In all, Jessop survived three maritime accidents – the RMS Olympic in 1911; the RMS Titanic in 1912; and the HMHS Britannic in 1916 – before dying in 1971 – she was 83. Due to her remarkable close calls with shipping disasters, Jessop often went by the name, “Miss Unsinkable”.\n",
       "Madeleine Astor                                                                                                                                                                                                                                                                                                                                                                                                                                                                                                                                                                                                                                  Madeline’s husband (John Astor) was the richest person on board with a net worth of 87 million US Dollars. She conditionally inherited her husband’s wealth, but later relinquished the wealth and got remarried several times.\n",
       "Dorothy Gibson                                                                                                                                                                                                                                                                                                                                                                                                                                                                                                                                                     She was a young movie star of 22 who survived the 1912 Titanic catastrophe. She later starred in a silent film titled “Saved from the Titanic”. Another very interesting fact about Dorothy Gibson is that she wore her Titanic dress as the costume for the movie. The movie was premiered in May that year.\n",
       "Frederick Fleet                                                                                                                                                                                                                                                                                                                                                                                                                                                  Frederick Fleet was 25 at the time of the disaster He was a sailor from Britain who became a Titanic crewmember at the age of 25. He was part of the watchmen who saw the iceberg in time. After seeing the iceberg, he sounded a bell and alerted the bridge – it was probably too late but others partly blamed him for the disaster. Fleet in his later life became depressed and took his own life in 1965.\n",
       "Charles Joughin                                                                                                                                                                                                                                                                                                                                                    He was a crew member who used his own intelligence to survive the tragedy. After disaster had struck, Charles and other passenger started drinking alcohol to defeat the cold developing in the icy waters. Charles consumed alcohol as he helped other passengers to escape to the lifeboats. He didn’t get a space for himself in the boat, but his alcohol consumption helped him to live up to 3 hours in the icy waters before rescue eventually came. He lived for 78 years before dying in New Jersey.\n",
       "Eva Miriam Harts                                                                                                                                                                                                                          She was only 7-years-old when the disaster caught her together with her parents on the ship. At the time of the accident, she was asleep. Her father’s resilience saved the life of Eva and her mother. Titanic went down with Eva’s father. His body was never identified. When she grew up, Eva became a great Australian singer, politician and a magistrate. She strongly criticized the insufficient number of lifeboats, which led to numerous deaths. According to Eva, the Titanic sinking site should be treated with reverence since it is a graveyard. By this, she was against salvage attempts of the Titanic’s wreckage.\n",
       "Archibald Gracie IV                                                                                                                                                                                                                                                                                                                                                                                                                                                         He was a writer and a historian. After surviving the disaster, he wrote a vivid account of the events leading up to the tragedy, but he didn’t live long afterward. After helping scores of other passengers to evacuate the ship, Archibald found himself resurfaced above the icy waters as the ship sank.  He climbed onto a floating lifeboat and later got rescued, along with other survivors.\n",
       "Henry S. Harper                                                                                                                                                                                                                                                                                                                                                                                                                                                                                                                                                                                                                                                He was a United States business magnate who belonged to the Harper & Brothers firm. He was among the notable survivors of the Titanic disaster. Harper made a good name for himself as a forest conservationist. \n",
       "Charles Lightoller                                                                                                                                                                                                         He was a second officer on the Titanic. Lightoller strictly observed the women-first policy to the letter, somewhat to the apparent detriment of male passengers. In all fairness he was slightly responsible for allowing half-empty lifeboats sail.  Luckily for him, he survived- this was after he had sank shortly with the ship and later resurfaced. As the minutes rolled by Lightoller;s survival instincts got sharper. He held on to his dear life by clutching onto an inverted boat until rescue came by. Years after the disaster, Lightoller would go on to make a lot of recommendations to improve maritime safety on the high seas.\n",
       "Margaret Brown                                                                                                                                                                                                                                    Margaret Brown, also known as “The Unsinkable Molly Brown”, showed immense courage and rescued a number of drowning passengers. She was an influential philanthropist who was among the survivors. Margaret and her husband, James Brown, became extremely wealthy after their mining business flourished at the turn of the 20th century.   As a social activist, she showed much concern for the welfare of children and women. She also helped to row back a lifeboat to the accident scene to save more survivors.  She was nicknamed “The Unsinkable Molly Brown”.  Her Titanic experience later became a Hollywood film.\n",
       "Masabumi Hosono                                                                                                                                                                                                                                                                                                                                                                                                                                                                                                          He was the only Japanese national onboard the Titanic. As a foreigner, Hosono was initially turned away when he tried to join a lifeboat. When a second lifeboat had enough room for two more people, Hosono hopped in with his dear life. Allegedly, his survival cost him his job. The media ridiculed him and shamed his family until his last days.\n",
       "Nöel Leslie                                                                                                                                                                                                                              Nöel Leslie, the Countess of Rothes She was a British Countess; she rose to the title when she got married to Norman Evelyn Leslie- the Earl of Rothes. Nöel was a popular personality in London. She boarded the ship together with her cousin Cherry.  The cousins were among the lucky passengers who hopped onto lifeboats and survived the tragedy. Leslie, her cousin and some crew members suggested going back to rescue more survivors, but their idea was met with resistance from other lifeboat survivors.   Nöel became very philanthropic after the disaster and discharged duties as a nurse during the First World War."
      ]
     },
     "execution_count": 33,
     "metadata": {},
     "output_type": "execute_result"
    }
   ],
   "source": [
    "survivor_df"
   ]
  },
  {
   "cell_type": "code",
   "execution_count": null,
   "id": "37a015f8",
   "metadata": {},
   "outputs": [],
   "source": []
  },
  {
   "cell_type": "code",
   "execution_count": 34,
   "id": "1de4f42f",
   "metadata": {},
   "outputs": [],
   "source": [
    "status = ['Passenger', 'Passenger', 'Passenger', 'Passenger', 'Crew', 'Passenger', 'Passenger', 'Crew', 'Crew', 'Passenger', 'Passenger', 'Passenger', 'Crew', 'Passenger', 'Passenger', 'Passenger']"
   ]
  },
  {
   "cell_type": "code",
   "execution_count": 35,
   "id": "b4aecde2",
   "metadata": {},
   "outputs": [],
   "source": [
    "survivor_df['Status'] = status"
   ]
  },
  {
   "cell_type": "code",
   "execution_count": 43,
   "id": "32da1caa",
   "metadata": {},
   "outputs": [],
   "source": [
    "survivor_df = survivor_df.reindex(columns=['Status','Survivor_Story'])"
   ]
  },
  {
   "cell_type": "code",
   "execution_count": 44,
   "id": "f5c54cc6",
   "metadata": {},
   "outputs": [
    {
     "data": {
      "text/html": [
       "<div>\n",
       "<style scoped>\n",
       "    .dataframe tbody tr th:only-of-type {\n",
       "        vertical-align: middle;\n",
       "    }\n",
       "\n",
       "    .dataframe tbody tr th {\n",
       "        vertical-align: top;\n",
       "    }\n",
       "\n",
       "    .dataframe thead th {\n",
       "        text-align: right;\n",
       "    }\n",
       "</style>\n",
       "<table border=\"1\" class=\"dataframe\">\n",
       "  <thead>\n",
       "    <tr style=\"text-align: right;\">\n",
       "      <th></th>\n",
       "      <th>Status</th>\n",
       "      <th>Survivor_Story</th>\n",
       "    </tr>\n",
       "  </thead>\n",
       "  <tbody>\n",
       "    <tr>\n",
       "      <th>Millvina Dean</th>\n",
       "      <td>Passenger</td>\n",
       "      <td>Millvina was the youngest person (2 months old) to survive the Titanic sinking. She passed away in 2009 at the age of 97. Her death in 2009 made her the last dead Titanic survivor.</td>\n",
       "    </tr>\n",
       "    <tr>\n",
       "      <th>Bruce Ismay</th>\n",
       "      <td>Passenger</td>\n",
       "      <td>He was one of the owners of the Titanic ship.   Bruce held a top position as manager of International Mercantile Marine. He was a business magnate from England who came under intense criticism after surviving the disaster. As a senior official of the shipping line, there were controversies that Bruce allegedly instructed the captain to speed faster, so that the Titanic could set a speed record upon its arrival in New York City.</td>\n",
       "    </tr>\n",
       "    <tr>\n",
       "      <th>The Navratil orphans</th>\n",
       "      <td>Passenger</td>\n",
       "      <td>Michel Navratil and Edmond Navratil were two young brothers who luckily survived the Titanic tragedy. The children’s parents were locked up in divorce conflicts. So, their dad bought the Titanic ticket and planned to relocate with his children to the USA. He even faked names for himself and his children in order to secure tickets. When the Titanic disaster struck and death was about to lay its icy hand on him and the children, Michel Sr. secured the last lifeboat for his children. The Navratil children survived, but their father sadly did not make it.  The sad story of the orphans gained a lot of media attention. After spending a couple of weeks in the care of a French survivor from the Titanic – Margaret Hays – the Navratil children eventually made into the comforting hands of their mother.</td>\n",
       "    </tr>\n",
       "    <tr>\n",
       "      <th>Cosmo and Lucy Duff Gordon</th>\n",
       "      <td>Passenger</td>\n",
       "      <td>Cosmo and Lucy Duff gained notoriety on the ship, simply because of their survival. Seated in the first-class compartment as a couple, they rushed for the first lifeboat. Lucy was a famed fashion designer from Britain. Cosmo (as a rich man) was criticized for bribing the crew and ignoring the women-and-children first policy, but he denied doing so. If Lucy hadn’t cancelled her Lusitanian trip in 1915, she would have been involved in another ocean tragedy – Germans torpedoed a ship that  she was supposed to be on. Regarding the Titanic disaster, it has been claimed that the Gordons lifeboat could have carried more than 12 people, but Lucy and her husband allegedly bribed the crew not to allow more passengers to join their boat, they feared for their lives.</td>\n",
       "    </tr>\n",
       "    <tr>\n",
       "      <th>Violet Jessop</th>\n",
       "      <td>Crew</td>\n",
       "      <td>In addition to the RMS Titanic disaster, Violet Jessop survived two separate shipping catastrophes. Jessop was a ship stewardess who survived the Titanic disaster. Before her involvement in the Titanic tragedy, Jessop had early on survived the RMS Olympic collision with another ship. Lucky enough, the watertight compartment of the Olympic worked well and saved their precious lives. Amidst the commotion and shoving on the sinking Titanic,  Jessop helped non-English passengers to safety before she was officially called to join a lifeboat. In all, Jessop survived three maritime accidents – the RMS Olympic in 1911; the RMS Titanic in 1912; and the HMHS Britannic in 1916 – before dying in 1971 – she was 83. Due to her remarkable close calls with shipping disasters, Jessop often went by the name, “Miss Unsinkable”.</td>\n",
       "    </tr>\n",
       "    <tr>\n",
       "      <th>Madeleine Astor</th>\n",
       "      <td>Passenger</td>\n",
       "      <td>Madeline’s husband (John Astor) was the richest person on board with a net worth of 87 million US Dollars. She conditionally inherited her husband’s wealth, but later relinquished the wealth and got remarried several times.</td>\n",
       "    </tr>\n",
       "    <tr>\n",
       "      <th>Dorothy Gibson</th>\n",
       "      <td>Passenger</td>\n",
       "      <td>She was a young movie star of 22 who survived the 1912 Titanic catastrophe. She later starred in a silent film titled “Saved from the Titanic”. Another very interesting fact about Dorothy Gibson is that she wore her Titanic dress as the costume for the movie. The movie was premiered in May that year.</td>\n",
       "    </tr>\n",
       "    <tr>\n",
       "      <th>Frederick Fleet</th>\n",
       "      <td>Crew</td>\n",
       "      <td>Frederick Fleet was 25 at the time of the disaster He was a sailor from Britain who became a Titanic crewmember at the age of 25. He was part of the watchmen who saw the iceberg in time. After seeing the iceberg, he sounded a bell and alerted the bridge – it was probably too late but others partly blamed him for the disaster. Fleet in his later life became depressed and took his own life in 1965.</td>\n",
       "    </tr>\n",
       "    <tr>\n",
       "      <th>Charles Joughin</th>\n",
       "      <td>Crew</td>\n",
       "      <td>He was a crew member who used his own intelligence to survive the tragedy. After disaster had struck, Charles and other passenger started drinking alcohol to defeat the cold developing in the icy waters. Charles consumed alcohol as he helped other passengers to escape to the lifeboats. He didn’t get a space for himself in the boat, but his alcohol consumption helped him to live up to 3 hours in the icy waters before rescue eventually came. He lived for 78 years before dying in New Jersey.</td>\n",
       "    </tr>\n",
       "    <tr>\n",
       "      <th>Eva Miriam Harts</th>\n",
       "      <td>Passenger</td>\n",
       "      <td>She was only 7-years-old when the disaster caught her together with her parents on the ship. At the time of the accident, she was asleep. Her father’s resilience saved the life of Eva and her mother. Titanic went down with Eva’s father. His body was never identified. When she grew up, Eva became a great Australian singer, politician and a magistrate. She strongly criticized the insufficient number of lifeboats, which led to numerous deaths. According to Eva, the Titanic sinking site should be treated with reverence since it is a graveyard. By this, she was against salvage attempts of the Titanic’s wreckage.</td>\n",
       "    </tr>\n",
       "    <tr>\n",
       "      <th>Archibald Gracie IV</th>\n",
       "      <td>Passenger</td>\n",
       "      <td>He was a writer and a historian. After surviving the disaster, he wrote a vivid account of the events leading up to the tragedy, but he didn’t live long afterward. After helping scores of other passengers to evacuate the ship, Archibald found himself resurfaced above the icy waters as the ship sank.  He climbed onto a floating lifeboat and later got rescued, along with other survivors.</td>\n",
       "    </tr>\n",
       "    <tr>\n",
       "      <th>Henry S. Harper</th>\n",
       "      <td>Passenger</td>\n",
       "      <td>He was a United States business magnate who belonged to the Harper &amp; Brothers firm. He was among the notable survivors of the Titanic disaster. Harper made a good name for himself as a forest conservationist.</td>\n",
       "    </tr>\n",
       "    <tr>\n",
       "      <th>Charles Lightoller</th>\n",
       "      <td>Crew</td>\n",
       "      <td>He was a second officer on the Titanic. Lightoller strictly observed the women-first policy to the letter, somewhat to the apparent detriment of male passengers. In all fairness he was slightly responsible for allowing half-empty lifeboats sail.  Luckily for him, he survived- this was after he had sank shortly with the ship and later resurfaced. As the minutes rolled by Lightoller;s survival instincts got sharper. He held on to his dear life by clutching onto an inverted boat until rescue came by. Years after the disaster, Lightoller would go on to make a lot of recommendations to improve maritime safety on the high seas.</td>\n",
       "    </tr>\n",
       "    <tr>\n",
       "      <th>Margaret Brown</th>\n",
       "      <td>Passenger</td>\n",
       "      <td>Margaret Brown, also known as “The Unsinkable Molly Brown”, showed immense courage and rescued a number of drowning passengers. She was an influential philanthropist who was among the survivors. Margaret and her husband, James Brown, became extremely wealthy after their mining business flourished at the turn of the 20th century.   As a social activist, she showed much concern for the welfare of children and women. She also helped to row back a lifeboat to the accident scene to save more survivors.  She was nicknamed “The Unsinkable Molly Brown”.  Her Titanic experience later became a Hollywood film.</td>\n",
       "    </tr>\n",
       "    <tr>\n",
       "      <th>Masabumi Hosono</th>\n",
       "      <td>Passenger</td>\n",
       "      <td>He was the only Japanese national onboard the Titanic. As a foreigner, Hosono was initially turned away when he tried to join a lifeboat. When a second lifeboat had enough room for two more people, Hosono hopped in with his dear life. Allegedly, his survival cost him his job. The media ridiculed him and shamed his family until his last days.</td>\n",
       "    </tr>\n",
       "    <tr>\n",
       "      <th>Nöel Leslie</th>\n",
       "      <td>Passenger</td>\n",
       "      <td>Nöel Leslie, the Countess of Rothes She was a British Countess; she rose to the title when she got married to Norman Evelyn Leslie- the Earl of Rothes. Nöel was a popular personality in London. She boarded the ship together with her cousin Cherry.  The cousins were among the lucky passengers who hopped onto lifeboats and survived the tragedy. Leslie, her cousin and some crew members suggested going back to rescue more survivors, but their idea was met with resistance from other lifeboat survivors.   Nöel became very philanthropic after the disaster and discharged duties as a nurse during the First World War.</td>\n",
       "    </tr>\n",
       "  </tbody>\n",
       "</table>\n",
       "</div>"
      ],
      "text/plain": [
       "                               Status  \\\n",
       "Millvina Dean               Passenger   \n",
       "Bruce Ismay                 Passenger   \n",
       "The Navratil orphans        Passenger   \n",
       "Cosmo and Lucy Duff Gordon  Passenger   \n",
       "Violet Jessop                    Crew   \n",
       "Madeleine Astor             Passenger   \n",
       "Dorothy Gibson              Passenger   \n",
       "Frederick Fleet                  Crew   \n",
       "Charles Joughin                  Crew   \n",
       "Eva Miriam Harts            Passenger   \n",
       "Archibald Gracie IV         Passenger   \n",
       "Henry S. Harper             Passenger   \n",
       "Charles Lightoller               Crew   \n",
       "Margaret Brown              Passenger   \n",
       "Masabumi Hosono             Passenger   \n",
       "Nöel Leslie                 Passenger   \n",
       "\n",
       "                                                                                                                                                                                                                                                                                                                                                                                                                                                                                                                                                                                                                                                                                                                                                                                                                                                                  Survivor_Story  \n",
       "Millvina Dean                                                                                                                                                                                                                                                                                                                                                                                                                                                                                                                                                                                                                                                                               Millvina was the youngest person (2 months old) to survive the Titanic sinking. She passed away in 2009 at the age of 97. Her death in 2009 made her the last dead Titanic survivor.  \n",
       "Bruce Ismay                                                                                                                                                                                                                                                                                                                                                                                                                      He was one of the owners of the Titanic ship.   Bruce held a top position as manager of International Mercantile Marine. He was a business magnate from England who came under intense criticism after surviving the disaster. As a senior official of the shipping line, there were controversies that Bruce allegedly instructed the captain to speed faster, so that the Titanic could set a speed record upon its arrival in New York City.  \n",
       "The Navratil orphans                          Michel Navratil and Edmond Navratil were two young brothers who luckily survived the Titanic tragedy. The children’s parents were locked up in divorce conflicts. So, their dad bought the Titanic ticket and planned to relocate with his children to the USA. He even faked names for himself and his children in order to secure tickets. When the Titanic disaster struck and death was about to lay its icy hand on him and the children, Michel Sr. secured the last lifeboat for his children. The Navratil children survived, but their father sadly did not make it.  The sad story of the orphans gained a lot of media attention. After spending a couple of weeks in the care of a French survivor from the Titanic – Margaret Hays – the Navratil children eventually made into the comforting hands of their mother.  \n",
       "Cosmo and Lucy Duff Gordon                                                         Cosmo and Lucy Duff gained notoriety on the ship, simply because of their survival. Seated in the first-class compartment as a couple, they rushed for the first lifeboat. Lucy was a famed fashion designer from Britain. Cosmo (as a rich man) was criticized for bribing the crew and ignoring the women-and-children first policy, but he denied doing so. If Lucy hadn’t cancelled her Lusitanian trip in 1915, she would have been involved in another ocean tragedy – Germans torpedoed a ship that  she was supposed to be on. Regarding the Titanic disaster, it has been claimed that the Gordons lifeboat could have carried more than 12 people, but Lucy and her husband allegedly bribed the crew not to allow more passengers to join their boat, they feared for their lives.  \n",
       "Violet Jessop               In addition to the RMS Titanic disaster, Violet Jessop survived two separate shipping catastrophes. Jessop was a ship stewardess who survived the Titanic disaster. Before her involvement in the Titanic tragedy, Jessop had early on survived the RMS Olympic collision with another ship. Lucky enough, the watertight compartment of the Olympic worked well and saved their precious lives. Amidst the commotion and shoving on the sinking Titanic,  Jessop helped non-English passengers to safety before she was officially called to join a lifeboat. In all, Jessop survived three maritime accidents – the RMS Olympic in 1911; the RMS Titanic in 1912; and the HMHS Britannic in 1916 – before dying in 1971 – she was 83. Due to her remarkable close calls with shipping disasters, Jessop often went by the name, “Miss Unsinkable”.  \n",
       "Madeleine Astor                                                                                                                                                                                                                                                                                                                                                                                                                                                                                                                                                                                                                                  Madeline’s husband (John Astor) was the richest person on board with a net worth of 87 million US Dollars. She conditionally inherited her husband’s wealth, but later relinquished the wealth and got remarried several times.  \n",
       "Dorothy Gibson                                                                                                                                                                                                                                                                                                                                                                                                                                                                                                                                                     She was a young movie star of 22 who survived the 1912 Titanic catastrophe. She later starred in a silent film titled “Saved from the Titanic”. Another very interesting fact about Dorothy Gibson is that she wore her Titanic dress as the costume for the movie. The movie was premiered in May that year.  \n",
       "Frederick Fleet                                                                                                                                                                                                                                                                                                                                                                                                                                                  Frederick Fleet was 25 at the time of the disaster He was a sailor from Britain who became a Titanic crewmember at the age of 25. He was part of the watchmen who saw the iceberg in time. After seeing the iceberg, he sounded a bell and alerted the bridge – it was probably too late but others partly blamed him for the disaster. Fleet in his later life became depressed and took his own life in 1965.  \n",
       "Charles Joughin                                                                                                                                                                                                                                                                                                                                                    He was a crew member who used his own intelligence to survive the tragedy. After disaster had struck, Charles and other passenger started drinking alcohol to defeat the cold developing in the icy waters. Charles consumed alcohol as he helped other passengers to escape to the lifeboats. He didn’t get a space for himself in the boat, but his alcohol consumption helped him to live up to 3 hours in the icy waters before rescue eventually came. He lived for 78 years before dying in New Jersey.  \n",
       "Eva Miriam Harts                                                                                                                                                                                                                          She was only 7-years-old when the disaster caught her together with her parents on the ship. At the time of the accident, she was asleep. Her father’s resilience saved the life of Eva and her mother. Titanic went down with Eva’s father. His body was never identified. When she grew up, Eva became a great Australian singer, politician and a magistrate. She strongly criticized the insufficient number of lifeboats, which led to numerous deaths. According to Eva, the Titanic sinking site should be treated with reverence since it is a graveyard. By this, she was against salvage attempts of the Titanic’s wreckage.  \n",
       "Archibald Gracie IV                                                                                                                                                                                                                                                                                                                                                                                                                                                         He was a writer and a historian. After surviving the disaster, he wrote a vivid account of the events leading up to the tragedy, but he didn’t live long afterward. After helping scores of other passengers to evacuate the ship, Archibald found himself resurfaced above the icy waters as the ship sank.  He climbed onto a floating lifeboat and later got rescued, along with other survivors.  \n",
       "Henry S. Harper                                                                                                                                                                                                                                                                                                                                                                                                                                                                                                                                                                                                                                                He was a United States business magnate who belonged to the Harper & Brothers firm. He was among the notable survivors of the Titanic disaster. Harper made a good name for himself as a forest conservationist.   \n",
       "Charles Lightoller                                                                                                                                                                                                         He was a second officer on the Titanic. Lightoller strictly observed the women-first policy to the letter, somewhat to the apparent detriment of male passengers. In all fairness he was slightly responsible for allowing half-empty lifeboats sail.  Luckily for him, he survived- this was after he had sank shortly with the ship and later resurfaced. As the minutes rolled by Lightoller;s survival instincts got sharper. He held on to his dear life by clutching onto an inverted boat until rescue came by. Years after the disaster, Lightoller would go on to make a lot of recommendations to improve maritime safety on the high seas.  \n",
       "Margaret Brown                                                                                                                                                                                                                                    Margaret Brown, also known as “The Unsinkable Molly Brown”, showed immense courage and rescued a number of drowning passengers. She was an influential philanthropist who was among the survivors. Margaret and her husband, James Brown, became extremely wealthy after their mining business flourished at the turn of the 20th century.   As a social activist, she showed much concern for the welfare of children and women. She also helped to row back a lifeboat to the accident scene to save more survivors.  She was nicknamed “The Unsinkable Molly Brown”.  Her Titanic experience later became a Hollywood film.  \n",
       "Masabumi Hosono                                                                                                                                                                                                                                                                                                                                                                                                                                                                                                          He was the only Japanese national onboard the Titanic. As a foreigner, Hosono was initially turned away when he tried to join a lifeboat. When a second lifeboat had enough room for two more people, Hosono hopped in with his dear life. Allegedly, his survival cost him his job. The media ridiculed him and shamed his family until his last days.  \n",
       "Nöel Leslie                                                                                                                                                                                                                              Nöel Leslie, the Countess of Rothes She was a British Countess; she rose to the title when she got married to Norman Evelyn Leslie- the Earl of Rothes. Nöel was a popular personality in London. She boarded the ship together with her cousin Cherry.  The cousins were among the lucky passengers who hopped onto lifeboats and survived the tragedy. Leslie, her cousin and some crew members suggested going back to rescue more survivors, but their idea was met with resistance from other lifeboat survivors.   Nöel became very philanthropic after the disaster and discharged duties as a nurse during the First World War.  "
      ]
     },
     "execution_count": 44,
     "metadata": {},
     "output_type": "execute_result"
    }
   ],
   "source": [
    "survivor_df"
   ]
  },
  {
   "cell_type": "code",
   "execution_count": 45,
   "id": "d94ef8f5",
   "metadata": {},
   "outputs": [
    {
     "data": {
      "text/plain": [
       "Status                                                                                                                                                                                                                                                                                                                                                                                                                                                                                                                                                                                                                                          Passenger\n",
       "Survivor_Story    Nöel Leslie, the Countess of Rothes She was a British Countess; she rose to the title when she got married to Norman Evelyn Leslie- the Earl of Rothes. Nöel was a popular personality in London. She boarded the ship together with her cousin Cherry.  The cousins were among the lucky passengers who hopped onto lifeboats and survived the tragedy. Leslie, her cousin and some crew members suggested going back to rescue more survivors, but their idea was met with resistance from other lifeboat survivors.   Nöel became very philanthropic after the disaster and discharged duties as a nurse during the First World War.\n",
       "Name: Nöel Leslie, dtype: object"
      ]
     },
     "execution_count": 45,
     "metadata": {},
     "output_type": "execute_result"
    }
   ],
   "source": [
    "survivor_df.loc['Nöel Leslie']"
   ]
  },
  {
   "cell_type": "code",
   "execution_count": 46,
   "id": "add22da8",
   "metadata": {},
   "outputs": [
    {
     "data": {
      "text/html": [
       "<div>\n",
       "<style scoped>\n",
       "    .dataframe tbody tr th:only-of-type {\n",
       "        vertical-align: middle;\n",
       "    }\n",
       "\n",
       "    .dataframe tbody tr th {\n",
       "        vertical-align: top;\n",
       "    }\n",
       "\n",
       "    .dataframe thead th {\n",
       "        text-align: right;\n",
       "    }\n",
       "</style>\n",
       "<table border=\"1\" class=\"dataframe\">\n",
       "  <thead>\n",
       "    <tr style=\"text-align: right;\">\n",
       "      <th></th>\n",
       "      <th>Status</th>\n",
       "      <th>Survivor_Story</th>\n",
       "    </tr>\n",
       "  </thead>\n",
       "  <tbody>\n",
       "    <tr>\n",
       "      <th>Nöel Leslie</th>\n",
       "      <td>Passenger</td>\n",
       "      <td>Nöel Leslie, the Countess of Rothes She was a British Countess; she rose to the title when she got married to Norman Evelyn Leslie- the Earl of Rothes. Nöel was a popular personality in London. She boarded the ship together with her cousin Cherry.  The cousins were among the lucky passengers who hopped onto lifeboats and survived the tragedy. Leslie, her cousin and some crew members suggested going back to rescue more survivors, but their idea was met with resistance from other lifeboat survivors.   Nöel became very philanthropic after the disaster and discharged duties as a nurse during the First World War.</td>\n",
       "    </tr>\n",
       "  </tbody>\n",
       "</table>\n",
       "</div>"
      ],
      "text/plain": [
       "                Status  \\\n",
       "Nöel Leslie  Passenger   \n",
       "\n",
       "                                                                                                                                                                                                                                                                                                                                                                                                                                                                                                                                                                                                                                      Survivor_Story  \n",
       "Nöel Leslie  Nöel Leslie, the Countess of Rothes She was a British Countess; she rose to the title when she got married to Norman Evelyn Leslie- the Earl of Rothes. Nöel was a popular personality in London. She boarded the ship together with her cousin Cherry.  The cousins were among the lucky passengers who hopped onto lifeboats and survived the tragedy. Leslie, her cousin and some crew members suggested going back to rescue more survivors, but their idea was met with resistance from other lifeboat survivors.   Nöel became very philanthropic after the disaster and discharged duties as a nurse during the First World War.  "
      ]
     },
     "execution_count": 46,
     "metadata": {},
     "output_type": "execute_result"
    }
   ],
   "source": [
    "survivor_df.tail(-15)"
   ]
  },
  {
   "cell_type": "code",
   "execution_count": 48,
   "id": "8dc6200f",
   "metadata": {},
   "outputs": [
    {
     "name": "stdout",
     "output_type": "stream",
     "text": [
      "Saved\n"
     ]
    }
   ],
   "source": [
    "# Save dataframe to a .csv file\n",
    "survivor_df.to_csv('survivor_df.csv')\n",
    "print(\"Saved\")"
   ]
  },
  {
   "cell_type": "code",
   "execution_count": null,
   "id": "b98d2375",
   "metadata": {},
   "outputs": [],
   "source": []
  }
 ],
 "metadata": {
  "kernelspec": {
   "display_name": "Python 3 (ipykernel)",
   "language": "python",
   "name": "python3"
  },
  "language_info": {
   "codemirror_mode": {
    "name": "ipython",
    "version": 3
   },
   "file_extension": ".py",
   "mimetype": "text/x-python",
   "name": "python",
   "nbconvert_exporter": "python",
   "pygments_lexer": "ipython3",
   "version": "3.9.7"
  }
 },
 "nbformat": 4,
 "nbformat_minor": 5
}
